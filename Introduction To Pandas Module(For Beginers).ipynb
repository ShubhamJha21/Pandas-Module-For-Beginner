{
 "cells": [
  {
   "cell_type": "markdown",
   "metadata": {},
   "source": [
    "# 1) Data Frame Introduction \n",
    "### Pandas has 141 function so to learn every function is quite possible. You can check this using  len(dir(pandas)) command so if you forget some command than do not get worried use documentation.Here are some basic function that will really help you start a data science project"
   ]
  },
  {
   "cell_type": "markdown",
   "metadata": {},
   "source": [
    "# len(dir(pd))"
   ]
  },
  {
   "cell_type": "code",
   "execution_count": 1,
   "metadata": {},
   "outputs": [],
   "source": [
    "import pandas as pd"
   ]
  },
  {
   "cell_type": "code",
   "execution_count": 2,
   "metadata": {},
   "outputs": [],
   "source": [
    "k = pd.DataFrame()"
   ]
  },
  {
   "cell_type": "code",
   "execution_count": 3,
   "metadata": {},
   "outputs": [
    {
     "name": "stdout",
     "output_type": "stream",
     "text": [
      "Empty DataFrame\n",
      "Columns: []\n",
      "Index: []\n"
     ]
    }
   ],
   "source": [
    "print(k)"
   ]
  },
  {
   "cell_type": "code",
   "execution_count": 4,
   "metadata": {},
   "outputs": [
    {
     "name": "stdout",
     "output_type": "stream",
     "text": [
      "Empty DataFrame\n",
      "Columns: []\n",
      "Index: []\n"
     ]
    }
   ],
   "source": [
    "print(k)"
   ]
  },
  {
   "cell_type": "markdown",
   "metadata": {},
   "source": [
    "# 2)  Creating a Data Frame"
   ]
  },
  {
   "cell_type": "code",
   "execution_count": 5,
   "metadata": {},
   "outputs": [],
   "source": [
    "l = pd.DataFrame([[1,3,4,5],[2,3,4,5],[4,5,6,7],[7,8,9,5]] ,columns = ['a','b','c','d'])"
   ]
  },
  {
   "cell_type": "code",
   "execution_count": 6,
   "metadata": {},
   "outputs": [
    {
     "name": "stdout",
     "output_type": "stream",
     "text": [
      "   a  b  c  d\n",
      "0  1  3  4  5\n",
      "1  2  3  4  5\n",
      "2  4  5  6  7\n",
      "3  7  8  9  5\n"
     ]
    }
   ],
   "source": [
    "print(l)"
   ]
  },
  {
   "cell_type": "markdown",
   "metadata": {},
   "source": [
    "# 3)Head/Tail"
   ]
  },
  {
   "cell_type": "code",
   "execution_count": 7,
   "metadata": {},
   "outputs": [
    {
     "data": {
      "text/html": [
       "<div>\n",
       "<style scoped>\n",
       "    .dataframe tbody tr th:only-of-type {\n",
       "        vertical-align: middle;\n",
       "    }\n",
       "\n",
       "    .dataframe tbody tr th {\n",
       "        vertical-align: top;\n",
       "    }\n",
       "\n",
       "    .dataframe thead th {\n",
       "        text-align: right;\n",
       "    }\n",
       "</style>\n",
       "<table border=\"1\" class=\"dataframe\">\n",
       "  <thead>\n",
       "    <tr style=\"text-align: right;\">\n",
       "      <th></th>\n",
       "      <th>a</th>\n",
       "      <th>b</th>\n",
       "      <th>c</th>\n",
       "      <th>d</th>\n",
       "    </tr>\n",
       "  </thead>\n",
       "  <tbody>\n",
       "    <tr>\n",
       "      <th>0</th>\n",
       "      <td>1</td>\n",
       "      <td>3</td>\n",
       "      <td>4</td>\n",
       "      <td>5</td>\n",
       "    </tr>\n",
       "    <tr>\n",
       "      <th>1</th>\n",
       "      <td>2</td>\n",
       "      <td>3</td>\n",
       "      <td>4</td>\n",
       "      <td>5</td>\n",
       "    </tr>\n",
       "    <tr>\n",
       "      <th>2</th>\n",
       "      <td>4</td>\n",
       "      <td>5</td>\n",
       "      <td>6</td>\n",
       "      <td>7</td>\n",
       "    </tr>\n",
       "  </tbody>\n",
       "</table>\n",
       "</div>"
      ],
      "text/plain": [
       "   a  b  c  d\n",
       "0  1  3  4  5\n",
       "1  2  3  4  5\n",
       "2  4  5  6  7"
      ]
     },
     "execution_count": 7,
     "metadata": {},
     "output_type": "execute_result"
    }
   ],
   "source": [
    "l.head(3)"
   ]
  },
  {
   "cell_type": "code",
   "execution_count": 8,
   "metadata": {},
   "outputs": [
    {
     "data": {
      "text/html": [
       "<div>\n",
       "<style scoped>\n",
       "    .dataframe tbody tr th:only-of-type {\n",
       "        vertical-align: middle;\n",
       "    }\n",
       "\n",
       "    .dataframe tbody tr th {\n",
       "        vertical-align: top;\n",
       "    }\n",
       "\n",
       "    .dataframe thead th {\n",
       "        text-align: right;\n",
       "    }\n",
       "</style>\n",
       "<table border=\"1\" class=\"dataframe\">\n",
       "  <thead>\n",
       "    <tr style=\"text-align: right;\">\n",
       "      <th></th>\n",
       "      <th>a</th>\n",
       "      <th>b</th>\n",
       "      <th>c</th>\n",
       "      <th>d</th>\n",
       "    </tr>\n",
       "  </thead>\n",
       "  <tbody>\n",
       "    <tr>\n",
       "      <th>2</th>\n",
       "      <td>4</td>\n",
       "      <td>5</td>\n",
       "      <td>6</td>\n",
       "      <td>7</td>\n",
       "    </tr>\n",
       "    <tr>\n",
       "      <th>3</th>\n",
       "      <td>7</td>\n",
       "      <td>8</td>\n",
       "      <td>9</td>\n",
       "      <td>5</td>\n",
       "    </tr>\n",
       "  </tbody>\n",
       "</table>\n",
       "</div>"
      ],
      "text/plain": [
       "   a  b  c  d\n",
       "2  4  5  6  7\n",
       "3  7  8  9  5"
      ]
     },
     "execution_count": 8,
     "metadata": {},
     "output_type": "execute_result"
    }
   ],
   "source": [
    "l.tail(2)"
   ]
  },
  {
   "cell_type": "markdown",
   "metadata": {},
   "source": [
    "# 4)pass no argument"
   ]
  },
  {
   "cell_type": "code",
   "execution_count": 9,
   "metadata": {},
   "outputs": [
    {
     "data": {
      "text/html": [
       "<div>\n",
       "<style scoped>\n",
       "    .dataframe tbody tr th:only-of-type {\n",
       "        vertical-align: middle;\n",
       "    }\n",
       "\n",
       "    .dataframe tbody tr th {\n",
       "        vertical-align: top;\n",
       "    }\n",
       "\n",
       "    .dataframe thead th {\n",
       "        text-align: right;\n",
       "    }\n",
       "</style>\n",
       "<table border=\"1\" class=\"dataframe\">\n",
       "  <thead>\n",
       "    <tr style=\"text-align: right;\">\n",
       "      <th></th>\n",
       "      <th>a</th>\n",
       "      <th>b</th>\n",
       "      <th>c</th>\n",
       "      <th>d</th>\n",
       "    </tr>\n",
       "  </thead>\n",
       "  <tbody>\n",
       "    <tr>\n",
       "      <th>0</th>\n",
       "      <td>1</td>\n",
       "      <td>3</td>\n",
       "      <td>4</td>\n",
       "      <td>5</td>\n",
       "    </tr>\n",
       "    <tr>\n",
       "      <th>1</th>\n",
       "      <td>2</td>\n",
       "      <td>3</td>\n",
       "      <td>4</td>\n",
       "      <td>5</td>\n",
       "    </tr>\n",
       "    <tr>\n",
       "      <th>2</th>\n",
       "      <td>4</td>\n",
       "      <td>5</td>\n",
       "      <td>6</td>\n",
       "      <td>7</td>\n",
       "    </tr>\n",
       "    <tr>\n",
       "      <th>3</th>\n",
       "      <td>7</td>\n",
       "      <td>8</td>\n",
       "      <td>9</td>\n",
       "      <td>5</td>\n",
       "    </tr>\n",
       "  </tbody>\n",
       "</table>\n",
       "</div>"
      ],
      "text/plain": [
       "   a  b  c  d\n",
       "0  1  3  4  5\n",
       "1  2  3  4  5\n",
       "2  4  5  6  7\n",
       "3  7  8  9  5"
      ]
     },
     "execution_count": 9,
     "metadata": {},
     "output_type": "execute_result"
    }
   ],
   "source": [
    "l.head()"
   ]
  },
  {
   "cell_type": "code",
   "execution_count": 10,
   "metadata": {},
   "outputs": [
    {
     "data": {
      "text/html": [
       "<div>\n",
       "<style scoped>\n",
       "    .dataframe tbody tr th:only-of-type {\n",
       "        vertical-align: middle;\n",
       "    }\n",
       "\n",
       "    .dataframe tbody tr th {\n",
       "        vertical-align: top;\n",
       "    }\n",
       "\n",
       "    .dataframe thead th {\n",
       "        text-align: right;\n",
       "    }\n",
       "</style>\n",
       "<table border=\"1\" class=\"dataframe\">\n",
       "  <thead>\n",
       "    <tr style=\"text-align: right;\">\n",
       "      <th></th>\n",
       "      <th>a</th>\n",
       "      <th>b</th>\n",
       "      <th>c</th>\n",
       "      <th>d</th>\n",
       "    </tr>\n",
       "  </thead>\n",
       "  <tbody>\n",
       "    <tr>\n",
       "      <th>0</th>\n",
       "      <td>1</td>\n",
       "      <td>3</td>\n",
       "      <td>4</td>\n",
       "      <td>5</td>\n",
       "    </tr>\n",
       "    <tr>\n",
       "      <th>1</th>\n",
       "      <td>2</td>\n",
       "      <td>3</td>\n",
       "      <td>4</td>\n",
       "      <td>5</td>\n",
       "    </tr>\n",
       "    <tr>\n",
       "      <th>2</th>\n",
       "      <td>4</td>\n",
       "      <td>5</td>\n",
       "      <td>6</td>\n",
       "      <td>7</td>\n",
       "    </tr>\n",
       "    <tr>\n",
       "      <th>3</th>\n",
       "      <td>7</td>\n",
       "      <td>8</td>\n",
       "      <td>9</td>\n",
       "      <td>5</td>\n",
       "    </tr>\n",
       "  </tbody>\n",
       "</table>\n",
       "</div>"
      ],
      "text/plain": [
       "   a  b  c  d\n",
       "0  1  3  4  5\n",
       "1  2  3  4  5\n",
       "2  4  5  6  7\n",
       "3  7  8  9  5"
      ]
     },
     "execution_count": 10,
     "metadata": {},
     "output_type": "execute_result"
    }
   ],
   "source": [
    "l.tail()"
   ]
  },
  {
   "cell_type": "markdown",
   "metadata": {},
   "source": [
    "# 5)Data frame size"
   ]
  },
  {
   "cell_type": "code",
   "execution_count": 11,
   "metadata": {},
   "outputs": [
    {
     "data": {
      "text/plain": [
       "(4, 4)"
      ]
     },
     "execution_count": 11,
     "metadata": {},
     "output_type": "execute_result"
    }
   ],
   "source": [
    "l.shape"
   ]
  },
  {
   "cell_type": "markdown",
   "metadata": {},
   "source": [
    "# 6)Slicing (iloc)"
   ]
  },
  {
   "cell_type": "code",
   "execution_count": 12,
   "metadata": {},
   "outputs": [
    {
     "name": "stdout",
     "output_type": "stream",
     "text": [
      "   a  b  c  d\n",
      "0  1  3  4  5\n",
      "1  2  3  4  5\n",
      "2  4  5  6  7\n",
      "3  7  8  9  5\n"
     ]
    }
   ],
   "source": [
    "print(l)"
   ]
  },
  {
   "cell_type": "code",
   "execution_count": 13,
   "metadata": {},
   "outputs": [
    {
     "data": {
      "text/html": [
       "<div>\n",
       "<style scoped>\n",
       "    .dataframe tbody tr th:only-of-type {\n",
       "        vertical-align: middle;\n",
       "    }\n",
       "\n",
       "    .dataframe tbody tr th {\n",
       "        vertical-align: top;\n",
       "    }\n",
       "\n",
       "    .dataframe thead th {\n",
       "        text-align: right;\n",
       "    }\n",
       "</style>\n",
       "<table border=\"1\" class=\"dataframe\">\n",
       "  <thead>\n",
       "    <tr style=\"text-align: right;\">\n",
       "      <th></th>\n",
       "      <th>b</th>\n",
       "      <th>c</th>\n",
       "      <th>d</th>\n",
       "    </tr>\n",
       "  </thead>\n",
       "  <tbody>\n",
       "    <tr>\n",
       "      <th>1</th>\n",
       "      <td>3</td>\n",
       "      <td>4</td>\n",
       "      <td>5</td>\n",
       "    </tr>\n",
       "    <tr>\n",
       "      <th>2</th>\n",
       "      <td>5</td>\n",
       "      <td>6</td>\n",
       "      <td>7</td>\n",
       "    </tr>\n",
       "  </tbody>\n",
       "</table>\n",
       "</div>"
      ],
      "text/plain": [
       "   b  c  d\n",
       "1  3  4  5\n",
       "2  5  6  7"
      ]
     },
     "execution_count": 13,
     "metadata": {},
     "output_type": "execute_result"
    }
   ],
   "source": [
    "l.iloc[1:3,1:4]"
   ]
  },
  {
   "cell_type": "markdown",
   "metadata": {},
   "source": [
    "# 7) Reading A CSV File In Python Pandas"
   ]
  },
  {
   "cell_type": "code",
   "execution_count": 14,
   "metadata": {},
   "outputs": [],
   "source": [
    "csv = pd.read_csv('data.csv',index_col=\"SECTYPE\")"
   ]
  },
  {
   "cell_type": "markdown",
   "metadata": {},
   "source": [
    "### index_col decides that which column you want use as index"
   ]
  },
  {
   "cell_type": "code",
   "execution_count": 15,
   "metadata": {},
   "outputs": [
    {
     "data": {
      "text/html": [
       "<div>\n",
       "<style scoped>\n",
       "    .dataframe tbody tr th:only-of-type {\n",
       "        vertical-align: middle;\n",
       "    }\n",
       "\n",
       "    .dataframe tbody tr th {\n",
       "        vertical-align: top;\n",
       "    }\n",
       "\n",
       "    .dataframe thead th {\n",
       "        text-align: right;\n",
       "    }\n",
       "</style>\n",
       "<table border=\"1\" class=\"dataframe\">\n",
       "  <thead>\n",
       "    <tr style=\"text-align: right;\">\n",
       "      <th></th>\n",
       "      <th>SECURITY</th>\n",
       "      <th>ISSUE_NAME</th>\n",
       "      <th>ISSUE_DESC</th>\n",
       "      <th>ISSUE_DATE</th>\n",
       "      <th>MAT_DATE</th>\n",
       "      <th>Last IP Dt</th>\n",
       "      <th>Next IP Dt</th>\n",
       "      <th>Cpn Freq</th>\n",
       "      <th>Last Traded Date</th>\n",
       "      <th>Last Traded Price (in Rs.)</th>\n",
       "      <th>ISIN NO.</th>\n",
       "    </tr>\n",
       "    <tr>\n",
       "      <th>SECTYPE</th>\n",
       "      <th></th>\n",
       "      <th></th>\n",
       "      <th></th>\n",
       "      <th></th>\n",
       "      <th></th>\n",
       "      <th></th>\n",
       "      <th></th>\n",
       "      <th></th>\n",
       "      <th></th>\n",
       "      <th></th>\n",
       "      <th></th>\n",
       "    </tr>\n",
       "  </thead>\n",
       "  <tbody>\n",
       "    <tr>\n",
       "      <th>SG</th>\n",
       "      <td>NAG21</td>\n",
       "      <td>8.60%</td>\n",
       "      <td>SDL NAGALAND 8.60% 2021</td>\n",
       "      <td>08-Jun-11</td>\n",
       "      <td>08-Jun-21</td>\n",
       "      <td>08-Dec-19</td>\n",
       "      <td>08-Jun-20</td>\n",
       "      <td>Half Yearly</td>\n",
       "      <td>NaN</td>\n",
       "      <td>0.0000</td>\n",
       "      <td>IN2620110014</td>\n",
       "    </tr>\n",
       "    <tr>\n",
       "      <th>SG</th>\n",
       "      <td>TN21</td>\n",
       "      <td>8.56%</td>\n",
       "      <td>SDL TAMIL NADU 8.56% 2021</td>\n",
       "      <td>22-Jun-11</td>\n",
       "      <td>22-Jun-21</td>\n",
       "      <td>22-Dec-19</td>\n",
       "      <td>22-Jun-20</td>\n",
       "      <td>Half Yearly</td>\n",
       "      <td>11-Apr-17</td>\n",
       "      <td>104.5379</td>\n",
       "      <td>IN3120110033</td>\n",
       "    </tr>\n",
       "    <tr>\n",
       "      <th>DP</th>\n",
       "      <td>TISCA</td>\n",
       "      <td>RESET</td>\n",
       "      <td>TATA STEEL RESET PERP BD</td>\n",
       "      <td>11-May-11</td>\n",
       "      <td>11-May-21</td>\n",
       "      <td>11-Nov-19</td>\n",
       "      <td>11-May-20</td>\n",
       "      <td>Half Yearly</td>\n",
       "      <td>25-Nov-16</td>\n",
       "      <td>109.9500</td>\n",
       "      <td>INE081A08173</td>\n",
       "    </tr>\n",
       "    <tr>\n",
       "      <th>PT</th>\n",
       "      <td>IRFC21</td>\n",
       "      <td>9.57%</td>\n",
       "      <td>IRFC 9.57% 2021 (S-77)</td>\n",
       "      <td>31-May-11</td>\n",
       "      <td>31-May-21</td>\n",
       "      <td>15-Apr-20</td>\n",
       "      <td>15-Oct-20</td>\n",
       "      <td>Half Yearly</td>\n",
       "      <td>16-Jul-18</td>\n",
       "      <td>103.7084</td>\n",
       "      <td>INE053F09HR2</td>\n",
       "    </tr>\n",
       "    <tr>\n",
       "      <th>SG</th>\n",
       "      <td>MEGH21</td>\n",
       "      <td>8.65%</td>\n",
       "      <td>SDL MEGHALAYA 8.65% 2021</td>\n",
       "      <td>11-May-11</td>\n",
       "      <td>11-May-21</td>\n",
       "      <td>11-Nov-19</td>\n",
       "      <td>11-May-20</td>\n",
       "      <td>Half Yearly</td>\n",
       "      <td>NaN</td>\n",
       "      <td>0.0000</td>\n",
       "      <td>IN2420110016</td>\n",
       "    </tr>\n",
       "    <tr>\n",
       "      <th>...</th>\n",
       "      <td>...</td>\n",
       "      <td>...</td>\n",
       "      <td>...</td>\n",
       "      <td>...</td>\n",
       "      <td>...</td>\n",
       "      <td>...</td>\n",
       "      <td>...</td>\n",
       "      <td>...</td>\n",
       "      <td>...</td>\n",
       "      <td>...</td>\n",
       "      <td>...</td>\n",
       "    </tr>\n",
       "    <tr>\n",
       "      <th>SG</th>\n",
       "      <td>UTK30</td>\n",
       "      <td>7.85%</td>\n",
       "      <td>SDL Uttarakhand 7.85% 2030</td>\n",
       "      <td>08-Apr-20</td>\n",
       "      <td>08-Apr-30</td>\n",
       "      <td>08-Apr-20</td>\n",
       "      <td>08-Oct-20</td>\n",
       "      <td>Half Yearly</td>\n",
       "      <td>NaN</td>\n",
       "      <td>0.0000</td>\n",
       "      <td>IN3620200011</td>\n",
       "    </tr>\n",
       "    <tr>\n",
       "      <th>TB</th>\n",
       "      <td>364D</td>\n",
       "      <td>80421</td>\n",
       "      <td>GOI T BILL 364D-08/04/2021</td>\n",
       "      <td>09-Apr-20</td>\n",
       "      <td>08-Apr-21</td>\n",
       "      <td>NaN</td>\n",
       "      <td>NaN</td>\n",
       "      <td>NaN</td>\n",
       "      <td>09-Apr-20</td>\n",
       "      <td>95.7141</td>\n",
       "      <td>IN002020Z014</td>\n",
       "    </tr>\n",
       "    <tr>\n",
       "      <th>CP</th>\n",
       "      <td>IOCL</td>\n",
       "      <td>300620</td>\n",
       "      <td>IOCL CP 30/06/20 Sr 443</td>\n",
       "      <td>13-Apr-20</td>\n",
       "      <td>30-Jun-20</td>\n",
       "      <td>NaN</td>\n",
       "      <td>NaN</td>\n",
       "      <td>NaN</td>\n",
       "      <td>NaN</td>\n",
       "      <td>0.0000</td>\n",
       "      <td>INE242A14QE1</td>\n",
       "    </tr>\n",
       "    <tr>\n",
       "      <th>TB</th>\n",
       "      <td>182D</td>\n",
       "      <td>151020</td>\n",
       "      <td>GOI T BILL 182D-15/10/2020</td>\n",
       "      <td>16-Apr-20</td>\n",
       "      <td>15-Oct-20</td>\n",
       "      <td>NaN</td>\n",
       "      <td>NaN</td>\n",
       "      <td>NaN</td>\n",
       "      <td>NaN</td>\n",
       "      <td>0.0000</td>\n",
       "      <td>IN002020Y025</td>\n",
       "    </tr>\n",
       "    <tr>\n",
       "      <th>CP</th>\n",
       "      <td>BAL</td>\n",
       "      <td>180520</td>\n",
       "      <td>BAL CP 18/05/20</td>\n",
       "      <td>15-Apr-20</td>\n",
       "      <td>18-May-20</td>\n",
       "      <td>NaN</td>\n",
       "      <td>NaN</td>\n",
       "      <td>NaN</td>\n",
       "      <td>NaN</td>\n",
       "      <td>0.0000</td>\n",
       "      <td>INE397D14217</td>\n",
       "    </tr>\n",
       "  </tbody>\n",
       "</table>\n",
       "<p>7903 rows × 11 columns</p>\n",
       "</div>"
      ],
      "text/plain": [
       "        SECURITY ISSUE_NAME                  ISSUE_DESC ISSUE_DATE   MAT_DATE  \\\n",
       "SECTYPE                                                                         \n",
       "SG         NAG21      8.60%     SDL NAGALAND 8.60% 2021  08-Jun-11  08-Jun-21   \n",
       "SG          TN21      8.56%   SDL TAMIL NADU 8.56% 2021  22-Jun-11  22-Jun-21   \n",
       "DP         TISCA      RESET    TATA STEEL RESET PERP BD  11-May-11  11-May-21   \n",
       "PT        IRFC21      9.57%      IRFC 9.57% 2021 (S-77)  31-May-11  31-May-21   \n",
       "SG        MEGH21      8.65%    SDL MEGHALAYA 8.65% 2021  11-May-11  11-May-21   \n",
       "...          ...        ...                         ...        ...        ...   \n",
       "SG         UTK30      7.85%  SDL Uttarakhand 7.85% 2030  08-Apr-20  08-Apr-30   \n",
       "TB          364D      80421  GOI T BILL 364D-08/04/2021  09-Apr-20  08-Apr-21   \n",
       "CP          IOCL     300620     IOCL CP 30/06/20 Sr 443  13-Apr-20  30-Jun-20   \n",
       "TB          182D     151020  GOI T BILL 182D-15/10/2020  16-Apr-20  15-Oct-20   \n",
       "CP           BAL     180520             BAL CP 18/05/20  15-Apr-20  18-May-20   \n",
       "\n",
       "        Last IP Dt Next IP Dt     Cpn Freq Last Traded Date  \\\n",
       "SECTYPE                                                       \n",
       "SG       08-Dec-19  08-Jun-20  Half Yearly              NaN   \n",
       "SG       22-Dec-19  22-Jun-20  Half Yearly        11-Apr-17   \n",
       "DP       11-Nov-19  11-May-20  Half Yearly        25-Nov-16   \n",
       "PT       15-Apr-20  15-Oct-20  Half Yearly        16-Jul-18   \n",
       "SG       11-Nov-19  11-May-20  Half Yearly              NaN   \n",
       "...            ...        ...          ...              ...   \n",
       "SG       08-Apr-20  08-Oct-20  Half Yearly              NaN   \n",
       "TB             NaN        NaN          NaN        09-Apr-20   \n",
       "CP             NaN        NaN          NaN              NaN   \n",
       "TB             NaN        NaN          NaN              NaN   \n",
       "CP             NaN        NaN          NaN              NaN   \n",
       "\n",
       "         Last Traded Price (in Rs.)      ISIN NO.  \n",
       "SECTYPE                                            \n",
       "SG                           0.0000  IN2620110014  \n",
       "SG                         104.5379  IN3120110033  \n",
       "DP                         109.9500  INE081A08173  \n",
       "PT                         103.7084  INE053F09HR2  \n",
       "SG                           0.0000  IN2420110016  \n",
       "...                             ...           ...  \n",
       "SG                           0.0000  IN3620200011  \n",
       "TB                          95.7141  IN002020Z014  \n",
       "CP                           0.0000  INE242A14QE1  \n",
       "TB                           0.0000  IN002020Y025  \n",
       "CP                           0.0000  INE397D14217  \n",
       "\n",
       "[7903 rows x 11 columns]"
      ]
     },
     "execution_count": 15,
     "metadata": {},
     "output_type": "execute_result"
    }
   ],
   "source": [
    "csv"
   ]
  },
  {
   "cell_type": "code",
   "execution_count": 16,
   "metadata": {},
   "outputs": [
    {
     "data": {
      "text/plain": [
       "SECTYPE\n",
       "SG     NAG21\n",
       "SG      TN21\n",
       "DP     TISCA\n",
       "PT    IRFC21\n",
       "SG    MEGH21\n",
       "       ...  \n",
       "SG     UTK30\n",
       "TB      364D\n",
       "CP      IOCL\n",
       "TB      182D\n",
       "CP       BAL\n",
       "Name: SECURITY, Length: 7903, dtype: object"
      ]
     },
     "execution_count": 16,
     "metadata": {},
     "output_type": "execute_result"
    }
   ],
   "source": [
    "csv['SECURITY']"
   ]
  },
  {
   "cell_type": "code",
   "execution_count": 17,
   "metadata": {},
   "outputs": [
    {
     "data": {
      "text/plain": [
       "dtype('O')"
      ]
     },
     "execution_count": 17,
     "metadata": {},
     "output_type": "execute_result"
    }
   ],
   "source": [
    "csv['ISSUE_NAME'].dtype"
   ]
  },
  {
   "cell_type": "code",
   "execution_count": 18,
   "metadata": {},
   "outputs": [
    {
     "name": "stdout",
     "output_type": "stream",
     "text": [
      "object\n"
     ]
    }
   ],
   "source": [
    "print(csv['ISSUE_NAME'].dtype)"
   ]
  },
  {
   "cell_type": "markdown",
   "metadata": {},
   "source": [
    "# 8)astype(column datatype change in csv file)"
   ]
  },
  {
   "cell_type": "code",
   "execution_count": 19,
   "metadata": {},
   "outputs": [
    {
     "data": {
      "text/plain": [
       "SECTYPE\n",
       "SG     8.60%\n",
       "SG     8.56%\n",
       "DP     RESET\n",
       "PT     9.57%\n",
       "SG     8.65%\n",
       "       ...  \n",
       "SG     7.85%\n",
       "TB     80421\n",
       "CP    300620\n",
       "TB    151020\n",
       "CP    180520\n",
       "Name: ISSUE_NAME, Length: 7903, dtype: category\n",
       "Categories (713, object): [-0.10%, 0%, 0.15%, 0.40%, ..., DPDP, DPG, RESET, RPG]"
      ]
     },
     "execution_count": 19,
     "metadata": {},
     "output_type": "execute_result"
    }
   ],
   "source": [
    " csv['ISSUE_NAME'].astype('category')"
   ]
  },
  {
   "cell_type": "markdown",
   "metadata": {},
   "source": [
    "# 9)Writing A CSV File In Python Pandas"
   ]
  },
  {
   "cell_type": "code",
   "execution_count": 20,
   "metadata": {},
   "outputs": [
    {
     "name": "stdout",
     "output_type": "stream",
     "text": [
      "   a  b  c  d\n",
      "0  1  3  4  5\n",
      "1  2  3  4  5\n",
      "2  4  5  6  7\n",
      "3  7  8  9  5\n"
     ]
    }
   ],
   "source": [
    "print(l)"
   ]
  },
  {
   "cell_type": "code",
   "execution_count": 21,
   "metadata": {},
   "outputs": [],
   "source": [
    "l.to_csv('new_write.csv')"
   ]
  },
  {
   "cell_type": "code",
   "execution_count": 22,
   "metadata": {},
   "outputs": [
    {
     "data": {
      "text/html": [
       "<div>\n",
       "<style scoped>\n",
       "    .dataframe tbody tr th:only-of-type {\n",
       "        vertical-align: middle;\n",
       "    }\n",
       "\n",
       "    .dataframe tbody tr th {\n",
       "        vertical-align: top;\n",
       "    }\n",
       "\n",
       "    .dataframe thead th {\n",
       "        text-align: right;\n",
       "    }\n",
       "</style>\n",
       "<table border=\"1\" class=\"dataframe\">\n",
       "  <thead>\n",
       "    <tr style=\"text-align: right;\">\n",
       "      <th></th>\n",
       "      <th>a</th>\n",
       "      <th>b</th>\n",
       "      <th>c</th>\n",
       "      <th>d</th>\n",
       "    </tr>\n",
       "  </thead>\n",
       "  <tbody>\n",
       "    <tr>\n",
       "      <th>0</th>\n",
       "      <td>1</td>\n",
       "      <td>3</td>\n",
       "      <td>4</td>\n",
       "      <td>5</td>\n",
       "    </tr>\n",
       "    <tr>\n",
       "      <th>1</th>\n",
       "      <td>2</td>\n",
       "      <td>3</td>\n",
       "      <td>4</td>\n",
       "      <td>5</td>\n",
       "    </tr>\n",
       "    <tr>\n",
       "      <th>2</th>\n",
       "      <td>4</td>\n",
       "      <td>5</td>\n",
       "      <td>6</td>\n",
       "      <td>7</td>\n",
       "    </tr>\n",
       "    <tr>\n",
       "      <th>3</th>\n",
       "      <td>7</td>\n",
       "      <td>8</td>\n",
       "      <td>9</td>\n",
       "      <td>5</td>\n",
       "    </tr>\n",
       "  </tbody>\n",
       "</table>\n",
       "</div>"
      ],
      "text/plain": [
       "   a  b  c  d\n",
       "0  1  3  4  5\n",
       "1  2  3  4  5\n",
       "2  4  5  6  7\n",
       "3  7  8  9  5"
      ]
     },
     "execution_count": 22,
     "metadata": {},
     "output_type": "execute_result"
    }
   ],
   "source": [
    "l"
   ]
  },
  {
   "cell_type": "code",
   "execution_count": 23,
   "metadata": {},
   "outputs": [],
   "source": [
    "l.to_csv('new1_write.csv',index=False)"
   ]
  },
  {
   "cell_type": "markdown",
   "metadata": {},
   "source": [
    "# 10)Merging DataFrames In Pandas"
   ]
  },
  {
   "cell_type": "code",
   "execution_count": 24,
   "metadata": {},
   "outputs": [],
   "source": [
    "df1 = pd.DataFrame([[1,2,3],[2,3,4],[1,2,1]],columns=['A','B','C'])"
   ]
  },
  {
   "cell_type": "code",
   "execution_count": 25,
   "metadata": {},
   "outputs": [],
   "source": [
    "df2 = pd.DataFrame([[233,3,4],[1,3,4],[1,2,3]],columns=['x','y','z'])"
   ]
  },
  {
   "cell_type": "code",
   "execution_count": 26,
   "metadata": {},
   "outputs": [
    {
     "data": {
      "text/html": [
       "<div>\n",
       "<style scoped>\n",
       "    .dataframe tbody tr th:only-of-type {\n",
       "        vertical-align: middle;\n",
       "    }\n",
       "\n",
       "    .dataframe tbody tr th {\n",
       "        vertical-align: top;\n",
       "    }\n",
       "\n",
       "    .dataframe thead th {\n",
       "        text-align: right;\n",
       "    }\n",
       "</style>\n",
       "<table border=\"1\" class=\"dataframe\">\n",
       "  <thead>\n",
       "    <tr style=\"text-align: right;\">\n",
       "      <th></th>\n",
       "      <th>A</th>\n",
       "      <th>B</th>\n",
       "      <th>C</th>\n",
       "    </tr>\n",
       "  </thead>\n",
       "  <tbody>\n",
       "    <tr>\n",
       "      <th>0</th>\n",
       "      <td>1</td>\n",
       "      <td>2</td>\n",
       "      <td>3</td>\n",
       "    </tr>\n",
       "    <tr>\n",
       "      <th>1</th>\n",
       "      <td>2</td>\n",
       "      <td>3</td>\n",
       "      <td>4</td>\n",
       "    </tr>\n",
       "    <tr>\n",
       "      <th>2</th>\n",
       "      <td>1</td>\n",
       "      <td>2</td>\n",
       "      <td>1</td>\n",
       "    </tr>\n",
       "  </tbody>\n",
       "</table>\n",
       "</div>"
      ],
      "text/plain": [
       "   A  B  C\n",
       "0  1  2  3\n",
       "1  2  3  4\n",
       "2  1  2  1"
      ]
     },
     "execution_count": 26,
     "metadata": {},
     "output_type": "execute_result"
    }
   ],
   "source": [
    "df1"
   ]
  },
  {
   "cell_type": "code",
   "execution_count": 27,
   "metadata": {},
   "outputs": [
    {
     "data": {
      "text/html": [
       "<div>\n",
       "<style scoped>\n",
       "    .dataframe tbody tr th:only-of-type {\n",
       "        vertical-align: middle;\n",
       "    }\n",
       "\n",
       "    .dataframe tbody tr th {\n",
       "        vertical-align: top;\n",
       "    }\n",
       "\n",
       "    .dataframe thead th {\n",
       "        text-align: right;\n",
       "    }\n",
       "</style>\n",
       "<table border=\"1\" class=\"dataframe\">\n",
       "  <thead>\n",
       "    <tr style=\"text-align: right;\">\n",
       "      <th></th>\n",
       "      <th>x</th>\n",
       "      <th>y</th>\n",
       "      <th>z</th>\n",
       "    </tr>\n",
       "  </thead>\n",
       "  <tbody>\n",
       "    <tr>\n",
       "      <th>0</th>\n",
       "      <td>233</td>\n",
       "      <td>3</td>\n",
       "      <td>4</td>\n",
       "    </tr>\n",
       "    <tr>\n",
       "      <th>1</th>\n",
       "      <td>1</td>\n",
       "      <td>3</td>\n",
       "      <td>4</td>\n",
       "    </tr>\n",
       "    <tr>\n",
       "      <th>2</th>\n",
       "      <td>1</td>\n",
       "      <td>2</td>\n",
       "      <td>3</td>\n",
       "    </tr>\n",
       "  </tbody>\n",
       "</table>\n",
       "</div>"
      ],
      "text/plain": [
       "     x  y  z\n",
       "0  233  3  4\n",
       "1    1  3  4\n",
       "2    1  2  3"
      ]
     },
     "execution_count": 27,
     "metadata": {},
     "output_type": "execute_result"
    }
   ],
   "source": [
    "df2"
   ]
  },
  {
   "cell_type": "markdown",
   "metadata": {},
   "source": [
    "df3 = pd.merge(df1,df2,right_on='y',left_on='B')\n",
    "### you can observe right side dataframe(x,y,z) is set according to left side(A,B,C) data frame or 'y' column set according to 'B' column.¶"
   ]
  },
  {
   "cell_type": "code",
   "execution_count": 28,
   "metadata": {
    "scrolled": false
   },
   "outputs": [],
   "source": [
    "df3 = pd.merge(df1,df2,right_on='y',left_on='B')"
   ]
  },
  {
   "cell_type": "code",
   "execution_count": 29,
   "metadata": {},
   "outputs": [
    {
     "data": {
      "text/html": [
       "<div>\n",
       "<style scoped>\n",
       "    .dataframe tbody tr th:only-of-type {\n",
       "        vertical-align: middle;\n",
       "    }\n",
       "\n",
       "    .dataframe tbody tr th {\n",
       "        vertical-align: top;\n",
       "    }\n",
       "\n",
       "    .dataframe thead th {\n",
       "        text-align: right;\n",
       "    }\n",
       "</style>\n",
       "<table border=\"1\" class=\"dataframe\">\n",
       "  <thead>\n",
       "    <tr style=\"text-align: right;\">\n",
       "      <th></th>\n",
       "      <th>A</th>\n",
       "      <th>B</th>\n",
       "      <th>C</th>\n",
       "      <th>x</th>\n",
       "      <th>y</th>\n",
       "      <th>z</th>\n",
       "    </tr>\n",
       "  </thead>\n",
       "  <tbody>\n",
       "    <tr>\n",
       "      <th>0</th>\n",
       "      <td>1</td>\n",
       "      <td>2</td>\n",
       "      <td>3</td>\n",
       "      <td>1</td>\n",
       "      <td>2</td>\n",
       "      <td>3</td>\n",
       "    </tr>\n",
       "    <tr>\n",
       "      <th>1</th>\n",
       "      <td>1</td>\n",
       "      <td>2</td>\n",
       "      <td>1</td>\n",
       "      <td>1</td>\n",
       "      <td>2</td>\n",
       "      <td>3</td>\n",
       "    </tr>\n",
       "    <tr>\n",
       "      <th>2</th>\n",
       "      <td>2</td>\n",
       "      <td>3</td>\n",
       "      <td>4</td>\n",
       "      <td>233</td>\n",
       "      <td>3</td>\n",
       "      <td>4</td>\n",
       "    </tr>\n",
       "    <tr>\n",
       "      <th>3</th>\n",
       "      <td>2</td>\n",
       "      <td>3</td>\n",
       "      <td>4</td>\n",
       "      <td>1</td>\n",
       "      <td>3</td>\n",
       "      <td>4</td>\n",
       "    </tr>\n",
       "  </tbody>\n",
       "</table>\n",
       "</div>"
      ],
      "text/plain": [
       "   A  B  C    x  y  z\n",
       "0  1  2  3    1  2  3\n",
       "1  1  2  1    1  2  3\n",
       "2  2  3  4  233  3  4\n",
       "3  2  3  4    1  3  4"
      ]
     },
     "execution_count": 29,
     "metadata": {},
     "output_type": "execute_result"
    }
   ],
   "source": [
    "df3"
   ]
  },
  {
   "cell_type": "markdown",
   "metadata": {},
   "source": [
    "# 11)Example:- imdb-moviesdata (Find Good Movies and Bad Movies)"
   ]
  },
  {
   "cell_type": "code",
   "execution_count": 30,
   "metadata": {},
   "outputs": [],
   "source": [
    "data = pd.read_csv('imdb-moviesdata.csv',index_col=\"Rank\")"
   ]
  },
  {
   "cell_type": "code",
   "execution_count": 31,
   "metadata": {},
   "outputs": [
    {
     "data": {
      "text/html": [
       "<div>\n",
       "<style scoped>\n",
       "    .dataframe tbody tr th:only-of-type {\n",
       "        vertical-align: middle;\n",
       "    }\n",
       "\n",
       "    .dataframe tbody tr th {\n",
       "        vertical-align: top;\n",
       "    }\n",
       "\n",
       "    .dataframe thead th {\n",
       "        text-align: right;\n",
       "    }\n",
       "</style>\n",
       "<table border=\"1\" class=\"dataframe\">\n",
       "  <thead>\n",
       "    <tr style=\"text-align: right;\">\n",
       "      <th></th>\n",
       "      <th>Title</th>\n",
       "      <th>Genre</th>\n",
       "      <th>Description</th>\n",
       "      <th>Director</th>\n",
       "      <th>Actors</th>\n",
       "      <th>Year</th>\n",
       "      <th>Runtime (Minutes)</th>\n",
       "      <th>Rating</th>\n",
       "      <th>Votes</th>\n",
       "      <th>Revenue (Millions)</th>\n",
       "      <th>Metascore</th>\n",
       "    </tr>\n",
       "    <tr>\n",
       "      <th>Rank</th>\n",
       "      <th></th>\n",
       "      <th></th>\n",
       "      <th></th>\n",
       "      <th></th>\n",
       "      <th></th>\n",
       "      <th></th>\n",
       "      <th></th>\n",
       "      <th></th>\n",
       "      <th></th>\n",
       "      <th></th>\n",
       "      <th></th>\n",
       "    </tr>\n",
       "  </thead>\n",
       "  <tbody>\n",
       "    <tr>\n",
       "      <th>1</th>\n",
       "      <td>Guardians of the Galaxy</td>\n",
       "      <td>Action,Adventure,Sci-Fi</td>\n",
       "      <td>A group of intergalactic criminals are forced ...</td>\n",
       "      <td>James Gunn</td>\n",
       "      <td>Chris Pratt, Vin Diesel, Bradley Cooper, Zoe S...</td>\n",
       "      <td>2014</td>\n",
       "      <td>121</td>\n",
       "      <td>8.1</td>\n",
       "      <td>757074</td>\n",
       "      <td>333.13</td>\n",
       "      <td>76.0</td>\n",
       "    </tr>\n",
       "    <tr>\n",
       "      <th>2</th>\n",
       "      <td>Prometheus</td>\n",
       "      <td>Adventure,Mystery,Sci-Fi</td>\n",
       "      <td>Following clues to the origin of mankind, a te...</td>\n",
       "      <td>Ridley Scott</td>\n",
       "      <td>Noomi Rapace, Logan Marshall-Green, Michael Fa...</td>\n",
       "      <td>2012</td>\n",
       "      <td>124</td>\n",
       "      <td>7.0</td>\n",
       "      <td>485820</td>\n",
       "      <td>126.46</td>\n",
       "      <td>65.0</td>\n",
       "    </tr>\n",
       "    <tr>\n",
       "      <th>3</th>\n",
       "      <td>Split</td>\n",
       "      <td>Horror,Thriller</td>\n",
       "      <td>Three girls are kidnapped by a man with a diag...</td>\n",
       "      <td>M. Night Shyamalan</td>\n",
       "      <td>James McAvoy, Anya Taylor-Joy, Haley Lu Richar...</td>\n",
       "      <td>2016</td>\n",
       "      <td>117</td>\n",
       "      <td>7.3</td>\n",
       "      <td>157606</td>\n",
       "      <td>138.12</td>\n",
       "      <td>62.0</td>\n",
       "    </tr>\n",
       "    <tr>\n",
       "      <th>4</th>\n",
       "      <td>Sing</td>\n",
       "      <td>Animation,Comedy,Family</td>\n",
       "      <td>In a city of humanoid animals, a hustling thea...</td>\n",
       "      <td>Christophe Lourdelet</td>\n",
       "      <td>Matthew McConaughey,Reese Witherspoon, Seth Ma...</td>\n",
       "      <td>2016</td>\n",
       "      <td>108</td>\n",
       "      <td>7.2</td>\n",
       "      <td>60545</td>\n",
       "      <td>270.32</td>\n",
       "      <td>59.0</td>\n",
       "    </tr>\n",
       "    <tr>\n",
       "      <th>5</th>\n",
       "      <td>Suicide Squad</td>\n",
       "      <td>Action,Adventure,Fantasy</td>\n",
       "      <td>A secret government agency recruits some of th...</td>\n",
       "      <td>David Ayer</td>\n",
       "      <td>Will Smith, Jared Leto, Margot Robbie, Viola D...</td>\n",
       "      <td>2016</td>\n",
       "      <td>123</td>\n",
       "      <td>6.2</td>\n",
       "      <td>393727</td>\n",
       "      <td>325.02</td>\n",
       "      <td>40.0</td>\n",
       "    </tr>\n",
       "    <tr>\n",
       "      <th>...</th>\n",
       "      <td>...</td>\n",
       "      <td>...</td>\n",
       "      <td>...</td>\n",
       "      <td>...</td>\n",
       "      <td>...</td>\n",
       "      <td>...</td>\n",
       "      <td>...</td>\n",
       "      <td>...</td>\n",
       "      <td>...</td>\n",
       "      <td>...</td>\n",
       "      <td>...</td>\n",
       "    </tr>\n",
       "    <tr>\n",
       "      <th>996</th>\n",
       "      <td>Secret in Their Eyes</td>\n",
       "      <td>Crime,Drama,Mystery</td>\n",
       "      <td>A tight-knit team of rising investigators, alo...</td>\n",
       "      <td>Billy Ray</td>\n",
       "      <td>Chiwetel Ejiofor, Nicole Kidman, Julia Roberts...</td>\n",
       "      <td>2015</td>\n",
       "      <td>111</td>\n",
       "      <td>6.2</td>\n",
       "      <td>27585</td>\n",
       "      <td>NaN</td>\n",
       "      <td>45.0</td>\n",
       "    </tr>\n",
       "    <tr>\n",
       "      <th>997</th>\n",
       "      <td>Hostel: Part II</td>\n",
       "      <td>Horror</td>\n",
       "      <td>Three American college students studying abroa...</td>\n",
       "      <td>Eli Roth</td>\n",
       "      <td>Lauren German, Heather Matarazzo, Bijou Philli...</td>\n",
       "      <td>2007</td>\n",
       "      <td>94</td>\n",
       "      <td>5.5</td>\n",
       "      <td>73152</td>\n",
       "      <td>17.54</td>\n",
       "      <td>46.0</td>\n",
       "    </tr>\n",
       "    <tr>\n",
       "      <th>998</th>\n",
       "      <td>Step Up 2: The Streets</td>\n",
       "      <td>Drama,Music,Romance</td>\n",
       "      <td>Romantic sparks occur between two dance studen...</td>\n",
       "      <td>Jon M. Chu</td>\n",
       "      <td>Robert Hoffman, Briana Evigan, Cassie Ventura,...</td>\n",
       "      <td>2008</td>\n",
       "      <td>98</td>\n",
       "      <td>6.2</td>\n",
       "      <td>70699</td>\n",
       "      <td>58.01</td>\n",
       "      <td>50.0</td>\n",
       "    </tr>\n",
       "    <tr>\n",
       "      <th>999</th>\n",
       "      <td>Search Party</td>\n",
       "      <td>Adventure,Comedy</td>\n",
       "      <td>A pair of friends embark on a mission to reuni...</td>\n",
       "      <td>Scot Armstrong</td>\n",
       "      <td>Adam Pally, T.J. Miller, Thomas Middleditch,Sh...</td>\n",
       "      <td>2014</td>\n",
       "      <td>93</td>\n",
       "      <td>5.6</td>\n",
       "      <td>4881</td>\n",
       "      <td>NaN</td>\n",
       "      <td>22.0</td>\n",
       "    </tr>\n",
       "    <tr>\n",
       "      <th>1000</th>\n",
       "      <td>Nine Lives</td>\n",
       "      <td>Comedy,Family,Fantasy</td>\n",
       "      <td>A stuffy businessman finds himself trapped ins...</td>\n",
       "      <td>Barry Sonnenfeld</td>\n",
       "      <td>Kevin Spacey, Jennifer Garner, Robbie Amell,Ch...</td>\n",
       "      <td>2016</td>\n",
       "      <td>87</td>\n",
       "      <td>5.3</td>\n",
       "      <td>12435</td>\n",
       "      <td>19.64</td>\n",
       "      <td>11.0</td>\n",
       "    </tr>\n",
       "  </tbody>\n",
       "</table>\n",
       "<p>1000 rows × 11 columns</p>\n",
       "</div>"
      ],
      "text/plain": [
       "                        Title                     Genre  \\\n",
       "Rank                                                      \n",
       "1     Guardians of the Galaxy   Action,Adventure,Sci-Fi   \n",
       "2                  Prometheus  Adventure,Mystery,Sci-Fi   \n",
       "3                       Split           Horror,Thriller   \n",
       "4                        Sing   Animation,Comedy,Family   \n",
       "5               Suicide Squad  Action,Adventure,Fantasy   \n",
       "...                       ...                       ...   \n",
       "996      Secret in Their Eyes       Crime,Drama,Mystery   \n",
       "997           Hostel: Part II                    Horror   \n",
       "998    Step Up 2: The Streets       Drama,Music,Romance   \n",
       "999              Search Party          Adventure,Comedy   \n",
       "1000               Nine Lives     Comedy,Family,Fantasy   \n",
       "\n",
       "                                            Description              Director  \\\n",
       "Rank                                                                            \n",
       "1     A group of intergalactic criminals are forced ...            James Gunn   \n",
       "2     Following clues to the origin of mankind, a te...          Ridley Scott   \n",
       "3     Three girls are kidnapped by a man with a diag...    M. Night Shyamalan   \n",
       "4     In a city of humanoid animals, a hustling thea...  Christophe Lourdelet   \n",
       "5     A secret government agency recruits some of th...            David Ayer   \n",
       "...                                                 ...                   ...   \n",
       "996   A tight-knit team of rising investigators, alo...             Billy Ray   \n",
       "997   Three American college students studying abroa...              Eli Roth   \n",
       "998   Romantic sparks occur between two dance studen...            Jon M. Chu   \n",
       "999   A pair of friends embark on a mission to reuni...        Scot Armstrong   \n",
       "1000  A stuffy businessman finds himself trapped ins...      Barry Sonnenfeld   \n",
       "\n",
       "                                                 Actors  Year  \\\n",
       "Rank                                                            \n",
       "1     Chris Pratt, Vin Diesel, Bradley Cooper, Zoe S...  2014   \n",
       "2     Noomi Rapace, Logan Marshall-Green, Michael Fa...  2012   \n",
       "3     James McAvoy, Anya Taylor-Joy, Haley Lu Richar...  2016   \n",
       "4     Matthew McConaughey,Reese Witherspoon, Seth Ma...  2016   \n",
       "5     Will Smith, Jared Leto, Margot Robbie, Viola D...  2016   \n",
       "...                                                 ...   ...   \n",
       "996   Chiwetel Ejiofor, Nicole Kidman, Julia Roberts...  2015   \n",
       "997   Lauren German, Heather Matarazzo, Bijou Philli...  2007   \n",
       "998   Robert Hoffman, Briana Evigan, Cassie Ventura,...  2008   \n",
       "999   Adam Pally, T.J. Miller, Thomas Middleditch,Sh...  2014   \n",
       "1000  Kevin Spacey, Jennifer Garner, Robbie Amell,Ch...  2016   \n",
       "\n",
       "      Runtime (Minutes)  Rating   Votes  Revenue (Millions)  Metascore  \n",
       "Rank                                                                    \n",
       "1                   121     8.1  757074              333.13       76.0  \n",
       "2                   124     7.0  485820              126.46       65.0  \n",
       "3                   117     7.3  157606              138.12       62.0  \n",
       "4                   108     7.2   60545              270.32       59.0  \n",
       "5                   123     6.2  393727              325.02       40.0  \n",
       "...                 ...     ...     ...                 ...        ...  \n",
       "996                 111     6.2   27585                 NaN       45.0  \n",
       "997                  94     5.5   73152               17.54       46.0  \n",
       "998                  98     6.2   70699               58.01       50.0  \n",
       "999                  93     5.6    4881                 NaN       22.0  \n",
       "1000                 87     5.3   12435               19.64       11.0  \n",
       "\n",
       "[1000 rows x 11 columns]"
      ]
     },
     "execution_count": 31,
     "metadata": {},
     "output_type": "execute_result"
    }
   ],
   "source": [
    "data"
   ]
  },
  {
   "cell_type": "code",
   "execution_count": 32,
   "metadata": {},
   "outputs": [
    {
     "data": {
      "text/html": [
       "<div>\n",
       "<style scoped>\n",
       "    .dataframe tbody tr th:only-of-type {\n",
       "        vertical-align: middle;\n",
       "    }\n",
       "\n",
       "    .dataframe tbody tr th {\n",
       "        vertical-align: top;\n",
       "    }\n",
       "\n",
       "    .dataframe thead th {\n",
       "        text-align: right;\n",
       "    }\n",
       "</style>\n",
       "<table border=\"1\" class=\"dataframe\">\n",
       "  <thead>\n",
       "    <tr style=\"text-align: right;\">\n",
       "      <th></th>\n",
       "      <th>Title</th>\n",
       "      <th>Genre</th>\n",
       "      <th>Description</th>\n",
       "      <th>Director</th>\n",
       "      <th>Actors</th>\n",
       "      <th>Year</th>\n",
       "      <th>Runtime (Minutes)</th>\n",
       "      <th>Rating</th>\n",
       "      <th>Votes</th>\n",
       "      <th>Revenue (Millions)</th>\n",
       "      <th>Metascore</th>\n",
       "    </tr>\n",
       "    <tr>\n",
       "      <th>Rank</th>\n",
       "      <th></th>\n",
       "      <th></th>\n",
       "      <th></th>\n",
       "      <th></th>\n",
       "      <th></th>\n",
       "      <th></th>\n",
       "      <th></th>\n",
       "      <th></th>\n",
       "      <th></th>\n",
       "      <th></th>\n",
       "      <th></th>\n",
       "    </tr>\n",
       "  </thead>\n",
       "  <tbody>\n",
       "    <tr>\n",
       "      <th>1</th>\n",
       "      <td>Guardians of the Galaxy</td>\n",
       "      <td>Action,Adventure,Sci-Fi</td>\n",
       "      <td>A group of intergalactic criminals are forced ...</td>\n",
       "      <td>James Gunn</td>\n",
       "      <td>Chris Pratt, Vin Diesel, Bradley Cooper, Zoe S...</td>\n",
       "      <td>2014</td>\n",
       "      <td>121</td>\n",
       "      <td>8.1</td>\n",
       "      <td>757074</td>\n",
       "      <td>333.13</td>\n",
       "      <td>76.0</td>\n",
       "    </tr>\n",
       "    <tr>\n",
       "      <th>2</th>\n",
       "      <td>Prometheus</td>\n",
       "      <td>Adventure,Mystery,Sci-Fi</td>\n",
       "      <td>Following clues to the origin of mankind, a te...</td>\n",
       "      <td>Ridley Scott</td>\n",
       "      <td>Noomi Rapace, Logan Marshall-Green, Michael Fa...</td>\n",
       "      <td>2012</td>\n",
       "      <td>124</td>\n",
       "      <td>7.0</td>\n",
       "      <td>485820</td>\n",
       "      <td>126.46</td>\n",
       "      <td>65.0</td>\n",
       "    </tr>\n",
       "    <tr>\n",
       "      <th>3</th>\n",
       "      <td>Split</td>\n",
       "      <td>Horror,Thriller</td>\n",
       "      <td>Three girls are kidnapped by a man with a diag...</td>\n",
       "      <td>M. Night Shyamalan</td>\n",
       "      <td>James McAvoy, Anya Taylor-Joy, Haley Lu Richar...</td>\n",
       "      <td>2016</td>\n",
       "      <td>117</td>\n",
       "      <td>7.3</td>\n",
       "      <td>157606</td>\n",
       "      <td>138.12</td>\n",
       "      <td>62.0</td>\n",
       "    </tr>\n",
       "    <tr>\n",
       "      <th>4</th>\n",
       "      <td>Sing</td>\n",
       "      <td>Animation,Comedy,Family</td>\n",
       "      <td>In a city of humanoid animals, a hustling thea...</td>\n",
       "      <td>Christophe Lourdelet</td>\n",
       "      <td>Matthew McConaughey,Reese Witherspoon, Seth Ma...</td>\n",
       "      <td>2016</td>\n",
       "      <td>108</td>\n",
       "      <td>7.2</td>\n",
       "      <td>60545</td>\n",
       "      <td>270.32</td>\n",
       "      <td>59.0</td>\n",
       "    </tr>\n",
       "    <tr>\n",
       "      <th>5</th>\n",
       "      <td>Suicide Squad</td>\n",
       "      <td>Action,Adventure,Fantasy</td>\n",
       "      <td>A secret government agency recruits some of th...</td>\n",
       "      <td>David Ayer</td>\n",
       "      <td>Will Smith, Jared Leto, Margot Robbie, Viola D...</td>\n",
       "      <td>2016</td>\n",
       "      <td>123</td>\n",
       "      <td>6.2</td>\n",
       "      <td>393727</td>\n",
       "      <td>325.02</td>\n",
       "      <td>40.0</td>\n",
       "    </tr>\n",
       "  </tbody>\n",
       "</table>\n",
       "</div>"
      ],
      "text/plain": [
       "                        Title                     Genre  \\\n",
       "Rank                                                      \n",
       "1     Guardians of the Galaxy   Action,Adventure,Sci-Fi   \n",
       "2                  Prometheus  Adventure,Mystery,Sci-Fi   \n",
       "3                       Split           Horror,Thriller   \n",
       "4                        Sing   Animation,Comedy,Family   \n",
       "5               Suicide Squad  Action,Adventure,Fantasy   \n",
       "\n",
       "                                            Description              Director  \\\n",
       "Rank                                                                            \n",
       "1     A group of intergalactic criminals are forced ...            James Gunn   \n",
       "2     Following clues to the origin of mankind, a te...          Ridley Scott   \n",
       "3     Three girls are kidnapped by a man with a diag...    M. Night Shyamalan   \n",
       "4     In a city of humanoid animals, a hustling thea...  Christophe Lourdelet   \n",
       "5     A secret government agency recruits some of th...            David Ayer   \n",
       "\n",
       "                                                 Actors  Year  \\\n",
       "Rank                                                            \n",
       "1     Chris Pratt, Vin Diesel, Bradley Cooper, Zoe S...  2014   \n",
       "2     Noomi Rapace, Logan Marshall-Green, Michael Fa...  2012   \n",
       "3     James McAvoy, Anya Taylor-Joy, Haley Lu Richar...  2016   \n",
       "4     Matthew McConaughey,Reese Witherspoon, Seth Ma...  2016   \n",
       "5     Will Smith, Jared Leto, Margot Robbie, Viola D...  2016   \n",
       "\n",
       "      Runtime (Minutes)  Rating   Votes  Revenue (Millions)  Metascore  \n",
       "Rank                                                                    \n",
       "1                   121     8.1  757074              333.13       76.0  \n",
       "2                   124     7.0  485820              126.46       65.0  \n",
       "3                   117     7.3  157606              138.12       62.0  \n",
       "4                   108     7.2   60545              270.32       59.0  \n",
       "5                   123     6.2  393727              325.02       40.0  "
      ]
     },
     "execution_count": 32,
     "metadata": {},
     "output_type": "execute_result"
    }
   ],
   "source": [
    "data.head()"
   ]
  },
  {
   "cell_type": "code",
   "execution_count": 33,
   "metadata": {},
   "outputs": [
    {
     "data": {
      "text/plain": [
       "(1000, 11)"
      ]
     },
     "execution_count": 33,
     "metadata": {},
     "output_type": "execute_result"
    }
   ],
   "source": [
    "data.shape"
   ]
  },
  {
   "cell_type": "code",
   "execution_count": 34,
   "metadata": {},
   "outputs": [
    {
     "data": {
      "text/plain": [
       "Rank\n",
       "1       False\n",
       "2       False\n",
       "3       False\n",
       "4       False\n",
       "5       False\n",
       "        ...  \n",
       "996     False\n",
       "997     False\n",
       "998     False\n",
       "999     False\n",
       "1000    False\n",
       "Length: 1000, dtype: bool"
      ]
     },
     "execution_count": 34,
     "metadata": {},
     "output_type": "execute_result"
    }
   ],
   "source": [
    "data.duplicated()"
   ]
  },
  {
   "cell_type": "code",
   "execution_count": 35,
   "metadata": {},
   "outputs": [
    {
     "data": {
      "text/plain": [
       "0"
      ]
     },
     "execution_count": 35,
     "metadata": {},
     "output_type": "execute_result"
    }
   ],
   "source": [
    "sum(data.duplicated())"
   ]
  },
  {
   "cell_type": "code",
   "execution_count": 36,
   "metadata": {},
   "outputs": [
    {
     "data": {
      "text/html": [
       "<div>\n",
       "<style scoped>\n",
       "    .dataframe tbody tr th:only-of-type {\n",
       "        vertical-align: middle;\n",
       "    }\n",
       "\n",
       "    .dataframe tbody tr th {\n",
       "        vertical-align: top;\n",
       "    }\n",
       "\n",
       "    .dataframe thead th {\n",
       "        text-align: right;\n",
       "    }\n",
       "</style>\n",
       "<table border=\"1\" class=\"dataframe\">\n",
       "  <thead>\n",
       "    <tr style=\"text-align: right;\">\n",
       "      <th></th>\n",
       "      <th>Title</th>\n",
       "      <th>Genre</th>\n",
       "      <th>Description</th>\n",
       "      <th>Director</th>\n",
       "      <th>Actors</th>\n",
       "      <th>Year</th>\n",
       "      <th>Runtime (Minutes)</th>\n",
       "      <th>Rating</th>\n",
       "      <th>Votes</th>\n",
       "      <th>Revenue (Millions)</th>\n",
       "      <th>Metascore</th>\n",
       "    </tr>\n",
       "    <tr>\n",
       "      <th>Rank</th>\n",
       "      <th></th>\n",
       "      <th></th>\n",
       "      <th></th>\n",
       "      <th></th>\n",
       "      <th></th>\n",
       "      <th></th>\n",
       "      <th></th>\n",
       "      <th></th>\n",
       "      <th></th>\n",
       "      <th></th>\n",
       "      <th></th>\n",
       "    </tr>\n",
       "  </thead>\n",
       "  <tbody>\n",
       "    <tr>\n",
       "      <th>1</th>\n",
       "      <td>Guardians of the Galaxy</td>\n",
       "      <td>Action,Adventure,Sci-Fi</td>\n",
       "      <td>A group of intergalactic criminals are forced ...</td>\n",
       "      <td>James Gunn</td>\n",
       "      <td>Chris Pratt, Vin Diesel, Bradley Cooper, Zoe S...</td>\n",
       "      <td>2014</td>\n",
       "      <td>121</td>\n",
       "      <td>8.1</td>\n",
       "      <td>757074</td>\n",
       "      <td>333.13</td>\n",
       "      <td>76.0</td>\n",
       "    </tr>\n",
       "    <tr>\n",
       "      <th>2</th>\n",
       "      <td>Prometheus</td>\n",
       "      <td>Adventure,Mystery,Sci-Fi</td>\n",
       "      <td>Following clues to the origin of mankind, a te...</td>\n",
       "      <td>Ridley Scott</td>\n",
       "      <td>Noomi Rapace, Logan Marshall-Green, Michael Fa...</td>\n",
       "      <td>2012</td>\n",
       "      <td>124</td>\n",
       "      <td>7.0</td>\n",
       "      <td>485820</td>\n",
       "      <td>126.46</td>\n",
       "      <td>65.0</td>\n",
       "    </tr>\n",
       "    <tr>\n",
       "      <th>3</th>\n",
       "      <td>Split</td>\n",
       "      <td>Horror,Thriller</td>\n",
       "      <td>Three girls are kidnapped by a man with a diag...</td>\n",
       "      <td>M. Night Shyamalan</td>\n",
       "      <td>James McAvoy, Anya Taylor-Joy, Haley Lu Richar...</td>\n",
       "      <td>2016</td>\n",
       "      <td>117</td>\n",
       "      <td>7.3</td>\n",
       "      <td>157606</td>\n",
       "      <td>138.12</td>\n",
       "      <td>62.0</td>\n",
       "    </tr>\n",
       "    <tr>\n",
       "      <th>4</th>\n",
       "      <td>Sing</td>\n",
       "      <td>Animation,Comedy,Family</td>\n",
       "      <td>In a city of humanoid animals, a hustling thea...</td>\n",
       "      <td>Christophe Lourdelet</td>\n",
       "      <td>Matthew McConaughey,Reese Witherspoon, Seth Ma...</td>\n",
       "      <td>2016</td>\n",
       "      <td>108</td>\n",
       "      <td>7.2</td>\n",
       "      <td>60545</td>\n",
       "      <td>270.32</td>\n",
       "      <td>59.0</td>\n",
       "    </tr>\n",
       "    <tr>\n",
       "      <th>5</th>\n",
       "      <td>Suicide Squad</td>\n",
       "      <td>Action,Adventure,Fantasy</td>\n",
       "      <td>A secret government agency recruits some of th...</td>\n",
       "      <td>David Ayer</td>\n",
       "      <td>Will Smith, Jared Leto, Margot Robbie, Viola D...</td>\n",
       "      <td>2016</td>\n",
       "      <td>123</td>\n",
       "      <td>6.2</td>\n",
       "      <td>393727</td>\n",
       "      <td>325.02</td>\n",
       "      <td>40.0</td>\n",
       "    </tr>\n",
       "    <tr>\n",
       "      <th>...</th>\n",
       "      <td>...</td>\n",
       "      <td>...</td>\n",
       "      <td>...</td>\n",
       "      <td>...</td>\n",
       "      <td>...</td>\n",
       "      <td>...</td>\n",
       "      <td>...</td>\n",
       "      <td>...</td>\n",
       "      <td>...</td>\n",
       "      <td>...</td>\n",
       "      <td>...</td>\n",
       "    </tr>\n",
       "    <tr>\n",
       "      <th>996</th>\n",
       "      <td>Secret in Their Eyes</td>\n",
       "      <td>Crime,Drama,Mystery</td>\n",
       "      <td>A tight-knit team of rising investigators, alo...</td>\n",
       "      <td>Billy Ray</td>\n",
       "      <td>Chiwetel Ejiofor, Nicole Kidman, Julia Roberts...</td>\n",
       "      <td>2015</td>\n",
       "      <td>111</td>\n",
       "      <td>6.2</td>\n",
       "      <td>27585</td>\n",
       "      <td>NaN</td>\n",
       "      <td>45.0</td>\n",
       "    </tr>\n",
       "    <tr>\n",
       "      <th>997</th>\n",
       "      <td>Hostel: Part II</td>\n",
       "      <td>Horror</td>\n",
       "      <td>Three American college students studying abroa...</td>\n",
       "      <td>Eli Roth</td>\n",
       "      <td>Lauren German, Heather Matarazzo, Bijou Philli...</td>\n",
       "      <td>2007</td>\n",
       "      <td>94</td>\n",
       "      <td>5.5</td>\n",
       "      <td>73152</td>\n",
       "      <td>17.54</td>\n",
       "      <td>46.0</td>\n",
       "    </tr>\n",
       "    <tr>\n",
       "      <th>998</th>\n",
       "      <td>Step Up 2: The Streets</td>\n",
       "      <td>Drama,Music,Romance</td>\n",
       "      <td>Romantic sparks occur between two dance studen...</td>\n",
       "      <td>Jon M. Chu</td>\n",
       "      <td>Robert Hoffman, Briana Evigan, Cassie Ventura,...</td>\n",
       "      <td>2008</td>\n",
       "      <td>98</td>\n",
       "      <td>6.2</td>\n",
       "      <td>70699</td>\n",
       "      <td>58.01</td>\n",
       "      <td>50.0</td>\n",
       "    </tr>\n",
       "    <tr>\n",
       "      <th>999</th>\n",
       "      <td>Search Party</td>\n",
       "      <td>Adventure,Comedy</td>\n",
       "      <td>A pair of friends embark on a mission to reuni...</td>\n",
       "      <td>Scot Armstrong</td>\n",
       "      <td>Adam Pally, T.J. Miller, Thomas Middleditch,Sh...</td>\n",
       "      <td>2014</td>\n",
       "      <td>93</td>\n",
       "      <td>5.6</td>\n",
       "      <td>4881</td>\n",
       "      <td>NaN</td>\n",
       "      <td>22.0</td>\n",
       "    </tr>\n",
       "    <tr>\n",
       "      <th>1000</th>\n",
       "      <td>Nine Lives</td>\n",
       "      <td>Comedy,Family,Fantasy</td>\n",
       "      <td>A stuffy businessman finds himself trapped ins...</td>\n",
       "      <td>Barry Sonnenfeld</td>\n",
       "      <td>Kevin Spacey, Jennifer Garner, Robbie Amell,Ch...</td>\n",
       "      <td>2016</td>\n",
       "      <td>87</td>\n",
       "      <td>5.3</td>\n",
       "      <td>12435</td>\n",
       "      <td>19.64</td>\n",
       "      <td>11.0</td>\n",
       "    </tr>\n",
       "  </tbody>\n",
       "</table>\n",
       "<p>2000 rows × 11 columns</p>\n",
       "</div>"
      ],
      "text/plain": [
       "                        Title                     Genre  \\\n",
       "Rank                                                      \n",
       "1     Guardians of the Galaxy   Action,Adventure,Sci-Fi   \n",
       "2                  Prometheus  Adventure,Mystery,Sci-Fi   \n",
       "3                       Split           Horror,Thriller   \n",
       "4                        Sing   Animation,Comedy,Family   \n",
       "5               Suicide Squad  Action,Adventure,Fantasy   \n",
       "...                       ...                       ...   \n",
       "996      Secret in Their Eyes       Crime,Drama,Mystery   \n",
       "997           Hostel: Part II                    Horror   \n",
       "998    Step Up 2: The Streets       Drama,Music,Romance   \n",
       "999              Search Party          Adventure,Comedy   \n",
       "1000               Nine Lives     Comedy,Family,Fantasy   \n",
       "\n",
       "                                            Description              Director  \\\n",
       "Rank                                                                            \n",
       "1     A group of intergalactic criminals are forced ...            James Gunn   \n",
       "2     Following clues to the origin of mankind, a te...          Ridley Scott   \n",
       "3     Three girls are kidnapped by a man with a diag...    M. Night Shyamalan   \n",
       "4     In a city of humanoid animals, a hustling thea...  Christophe Lourdelet   \n",
       "5     A secret government agency recruits some of th...            David Ayer   \n",
       "...                                                 ...                   ...   \n",
       "996   A tight-knit team of rising investigators, alo...             Billy Ray   \n",
       "997   Three American college students studying abroa...              Eli Roth   \n",
       "998   Romantic sparks occur between two dance studen...            Jon M. Chu   \n",
       "999   A pair of friends embark on a mission to reuni...        Scot Armstrong   \n",
       "1000  A stuffy businessman finds himself trapped ins...      Barry Sonnenfeld   \n",
       "\n",
       "                                                 Actors  Year  \\\n",
       "Rank                                                            \n",
       "1     Chris Pratt, Vin Diesel, Bradley Cooper, Zoe S...  2014   \n",
       "2     Noomi Rapace, Logan Marshall-Green, Michael Fa...  2012   \n",
       "3     James McAvoy, Anya Taylor-Joy, Haley Lu Richar...  2016   \n",
       "4     Matthew McConaughey,Reese Witherspoon, Seth Ma...  2016   \n",
       "5     Will Smith, Jared Leto, Margot Robbie, Viola D...  2016   \n",
       "...                                                 ...   ...   \n",
       "996   Chiwetel Ejiofor, Nicole Kidman, Julia Roberts...  2015   \n",
       "997   Lauren German, Heather Matarazzo, Bijou Philli...  2007   \n",
       "998   Robert Hoffman, Briana Evigan, Cassie Ventura,...  2008   \n",
       "999   Adam Pally, T.J. Miller, Thomas Middleditch,Sh...  2014   \n",
       "1000  Kevin Spacey, Jennifer Garner, Robbie Amell,Ch...  2016   \n",
       "\n",
       "      Runtime (Minutes)  Rating   Votes  Revenue (Millions)  Metascore  \n",
       "Rank                                                                    \n",
       "1                   121     8.1  757074              333.13       76.0  \n",
       "2                   124     7.0  485820              126.46       65.0  \n",
       "3                   117     7.3  157606              138.12       62.0  \n",
       "4                   108     7.2   60545              270.32       59.0  \n",
       "5                   123     6.2  393727              325.02       40.0  \n",
       "...                 ...     ...     ...                 ...        ...  \n",
       "996                 111     6.2   27585                 NaN       45.0  \n",
       "997                  94     5.5   73152               17.54       46.0  \n",
       "998                  98     6.2   70699               58.01       50.0  \n",
       "999                  93     5.6    4881                 NaN       22.0  \n",
       "1000                 87     5.3   12435               19.64       11.0  \n",
       "\n",
       "[2000 rows x 11 columns]"
      ]
     },
     "execution_count": 36,
     "metadata": {},
     "output_type": "execute_result"
    }
   ],
   "source": [
    "data_new=data.append(data)\n",
    "data_new"
   ]
  },
  {
   "cell_type": "code",
   "execution_count": 37,
   "metadata": {},
   "outputs": [
    {
     "data": {
      "text/plain": [
       "(2000, 11)"
      ]
     },
     "execution_count": 37,
     "metadata": {},
     "output_type": "execute_result"
    }
   ],
   "source": [
    "data_new.shape"
   ]
  },
  {
   "cell_type": "code",
   "execution_count": 38,
   "metadata": {},
   "outputs": [
    {
     "data": {
      "text/plain": [
       "1000"
      ]
     },
     "execution_count": 38,
     "metadata": {},
     "output_type": "execute_result"
    }
   ],
   "source": [
    "sum(data_new.duplicated())"
   ]
  },
  {
   "cell_type": "code",
   "execution_count": 39,
   "metadata": {},
   "outputs": [
    {
     "data": {
      "text/plain": [
       "1000"
      ]
     },
     "execution_count": 39,
     "metadata": {},
     "output_type": "execute_result"
    }
   ],
   "source": [
    "data_new.duplicated().sum()"
   ]
  },
  {
   "cell_type": "code",
   "execution_count": 40,
   "metadata": {},
   "outputs": [
    {
     "data": {
      "text/html": [
       "<div>\n",
       "<style scoped>\n",
       "    .dataframe tbody tr th:only-of-type {\n",
       "        vertical-align: middle;\n",
       "    }\n",
       "\n",
       "    .dataframe tbody tr th {\n",
       "        vertical-align: top;\n",
       "    }\n",
       "\n",
       "    .dataframe thead th {\n",
       "        text-align: right;\n",
       "    }\n",
       "</style>\n",
       "<table border=\"1\" class=\"dataframe\">\n",
       "  <thead>\n",
       "    <tr style=\"text-align: right;\">\n",
       "      <th></th>\n",
       "      <th>Title</th>\n",
       "      <th>Genre</th>\n",
       "      <th>Description</th>\n",
       "      <th>Director</th>\n",
       "      <th>Actors</th>\n",
       "      <th>Year</th>\n",
       "      <th>Runtime (Minutes)</th>\n",
       "      <th>Rating</th>\n",
       "      <th>Votes</th>\n",
       "      <th>Revenue (Millions)</th>\n",
       "      <th>Metascore</th>\n",
       "    </tr>\n",
       "    <tr>\n",
       "      <th>Rank</th>\n",
       "      <th></th>\n",
       "      <th></th>\n",
       "      <th></th>\n",
       "      <th></th>\n",
       "      <th></th>\n",
       "      <th></th>\n",
       "      <th></th>\n",
       "      <th></th>\n",
       "      <th></th>\n",
       "      <th></th>\n",
       "      <th></th>\n",
       "    </tr>\n",
       "  </thead>\n",
       "  <tbody>\n",
       "    <tr>\n",
       "      <th>1</th>\n",
       "      <td>Guardians of the Galaxy</td>\n",
       "      <td>Action,Adventure,Sci-Fi</td>\n",
       "      <td>A group of intergalactic criminals are forced ...</td>\n",
       "      <td>James Gunn</td>\n",
       "      <td>Chris Pratt, Vin Diesel, Bradley Cooper, Zoe S...</td>\n",
       "      <td>2014</td>\n",
       "      <td>121</td>\n",
       "      <td>8.1</td>\n",
       "      <td>757074</td>\n",
       "      <td>333.13</td>\n",
       "      <td>76.0</td>\n",
       "    </tr>\n",
       "    <tr>\n",
       "      <th>2</th>\n",
       "      <td>Prometheus</td>\n",
       "      <td>Adventure,Mystery,Sci-Fi</td>\n",
       "      <td>Following clues to the origin of mankind, a te...</td>\n",
       "      <td>Ridley Scott</td>\n",
       "      <td>Noomi Rapace, Logan Marshall-Green, Michael Fa...</td>\n",
       "      <td>2012</td>\n",
       "      <td>124</td>\n",
       "      <td>7.0</td>\n",
       "      <td>485820</td>\n",
       "      <td>126.46</td>\n",
       "      <td>65.0</td>\n",
       "    </tr>\n",
       "    <tr>\n",
       "      <th>3</th>\n",
       "      <td>Split</td>\n",
       "      <td>Horror,Thriller</td>\n",
       "      <td>Three girls are kidnapped by a man with a diag...</td>\n",
       "      <td>M. Night Shyamalan</td>\n",
       "      <td>James McAvoy, Anya Taylor-Joy, Haley Lu Richar...</td>\n",
       "      <td>2016</td>\n",
       "      <td>117</td>\n",
       "      <td>7.3</td>\n",
       "      <td>157606</td>\n",
       "      <td>138.12</td>\n",
       "      <td>62.0</td>\n",
       "    </tr>\n",
       "    <tr>\n",
       "      <th>4</th>\n",
       "      <td>Sing</td>\n",
       "      <td>Animation,Comedy,Family</td>\n",
       "      <td>In a city of humanoid animals, a hustling thea...</td>\n",
       "      <td>Christophe Lourdelet</td>\n",
       "      <td>Matthew McConaughey,Reese Witherspoon, Seth Ma...</td>\n",
       "      <td>2016</td>\n",
       "      <td>108</td>\n",
       "      <td>7.2</td>\n",
       "      <td>60545</td>\n",
       "      <td>270.32</td>\n",
       "      <td>59.0</td>\n",
       "    </tr>\n",
       "    <tr>\n",
       "      <th>5</th>\n",
       "      <td>Suicide Squad</td>\n",
       "      <td>Action,Adventure,Fantasy</td>\n",
       "      <td>A secret government agency recruits some of th...</td>\n",
       "      <td>David Ayer</td>\n",
       "      <td>Will Smith, Jared Leto, Margot Robbie, Viola D...</td>\n",
       "      <td>2016</td>\n",
       "      <td>123</td>\n",
       "      <td>6.2</td>\n",
       "      <td>393727</td>\n",
       "      <td>325.02</td>\n",
       "      <td>40.0</td>\n",
       "    </tr>\n",
       "    <tr>\n",
       "      <th>...</th>\n",
       "      <td>...</td>\n",
       "      <td>...</td>\n",
       "      <td>...</td>\n",
       "      <td>...</td>\n",
       "      <td>...</td>\n",
       "      <td>...</td>\n",
       "      <td>...</td>\n",
       "      <td>...</td>\n",
       "      <td>...</td>\n",
       "      <td>...</td>\n",
       "      <td>...</td>\n",
       "    </tr>\n",
       "    <tr>\n",
       "      <th>996</th>\n",
       "      <td>Secret in Their Eyes</td>\n",
       "      <td>Crime,Drama,Mystery</td>\n",
       "      <td>A tight-knit team of rising investigators, alo...</td>\n",
       "      <td>Billy Ray</td>\n",
       "      <td>Chiwetel Ejiofor, Nicole Kidman, Julia Roberts...</td>\n",
       "      <td>2015</td>\n",
       "      <td>111</td>\n",
       "      <td>6.2</td>\n",
       "      <td>27585</td>\n",
       "      <td>NaN</td>\n",
       "      <td>45.0</td>\n",
       "    </tr>\n",
       "    <tr>\n",
       "      <th>997</th>\n",
       "      <td>Hostel: Part II</td>\n",
       "      <td>Horror</td>\n",
       "      <td>Three American college students studying abroa...</td>\n",
       "      <td>Eli Roth</td>\n",
       "      <td>Lauren German, Heather Matarazzo, Bijou Philli...</td>\n",
       "      <td>2007</td>\n",
       "      <td>94</td>\n",
       "      <td>5.5</td>\n",
       "      <td>73152</td>\n",
       "      <td>17.54</td>\n",
       "      <td>46.0</td>\n",
       "    </tr>\n",
       "    <tr>\n",
       "      <th>998</th>\n",
       "      <td>Step Up 2: The Streets</td>\n",
       "      <td>Drama,Music,Romance</td>\n",
       "      <td>Romantic sparks occur between two dance studen...</td>\n",
       "      <td>Jon M. Chu</td>\n",
       "      <td>Robert Hoffman, Briana Evigan, Cassie Ventura,...</td>\n",
       "      <td>2008</td>\n",
       "      <td>98</td>\n",
       "      <td>6.2</td>\n",
       "      <td>70699</td>\n",
       "      <td>58.01</td>\n",
       "      <td>50.0</td>\n",
       "    </tr>\n",
       "    <tr>\n",
       "      <th>999</th>\n",
       "      <td>Search Party</td>\n",
       "      <td>Adventure,Comedy</td>\n",
       "      <td>A pair of friends embark on a mission to reuni...</td>\n",
       "      <td>Scot Armstrong</td>\n",
       "      <td>Adam Pally, T.J. Miller, Thomas Middleditch,Sh...</td>\n",
       "      <td>2014</td>\n",
       "      <td>93</td>\n",
       "      <td>5.6</td>\n",
       "      <td>4881</td>\n",
       "      <td>NaN</td>\n",
       "      <td>22.0</td>\n",
       "    </tr>\n",
       "    <tr>\n",
       "      <th>1000</th>\n",
       "      <td>Nine Lives</td>\n",
       "      <td>Comedy,Family,Fantasy</td>\n",
       "      <td>A stuffy businessman finds himself trapped ins...</td>\n",
       "      <td>Barry Sonnenfeld</td>\n",
       "      <td>Kevin Spacey, Jennifer Garner, Robbie Amell,Ch...</td>\n",
       "      <td>2016</td>\n",
       "      <td>87</td>\n",
       "      <td>5.3</td>\n",
       "      <td>12435</td>\n",
       "      <td>19.64</td>\n",
       "      <td>11.0</td>\n",
       "    </tr>\n",
       "  </tbody>\n",
       "</table>\n",
       "<p>1000 rows × 11 columns</p>\n",
       "</div>"
      ],
      "text/plain": [
       "                        Title                     Genre  \\\n",
       "Rank                                                      \n",
       "1     Guardians of the Galaxy   Action,Adventure,Sci-Fi   \n",
       "2                  Prometheus  Adventure,Mystery,Sci-Fi   \n",
       "3                       Split           Horror,Thriller   \n",
       "4                        Sing   Animation,Comedy,Family   \n",
       "5               Suicide Squad  Action,Adventure,Fantasy   \n",
       "...                       ...                       ...   \n",
       "996      Secret in Their Eyes       Crime,Drama,Mystery   \n",
       "997           Hostel: Part II                    Horror   \n",
       "998    Step Up 2: The Streets       Drama,Music,Romance   \n",
       "999              Search Party          Adventure,Comedy   \n",
       "1000               Nine Lives     Comedy,Family,Fantasy   \n",
       "\n",
       "                                            Description              Director  \\\n",
       "Rank                                                                            \n",
       "1     A group of intergalactic criminals are forced ...            James Gunn   \n",
       "2     Following clues to the origin of mankind, a te...          Ridley Scott   \n",
       "3     Three girls are kidnapped by a man with a diag...    M. Night Shyamalan   \n",
       "4     In a city of humanoid animals, a hustling thea...  Christophe Lourdelet   \n",
       "5     A secret government agency recruits some of th...            David Ayer   \n",
       "...                                                 ...                   ...   \n",
       "996   A tight-knit team of rising investigators, alo...             Billy Ray   \n",
       "997   Three American college students studying abroa...              Eli Roth   \n",
       "998   Romantic sparks occur between two dance studen...            Jon M. Chu   \n",
       "999   A pair of friends embark on a mission to reuni...        Scot Armstrong   \n",
       "1000  A stuffy businessman finds himself trapped ins...      Barry Sonnenfeld   \n",
       "\n",
       "                                                 Actors  Year  \\\n",
       "Rank                                                            \n",
       "1     Chris Pratt, Vin Diesel, Bradley Cooper, Zoe S...  2014   \n",
       "2     Noomi Rapace, Logan Marshall-Green, Michael Fa...  2012   \n",
       "3     James McAvoy, Anya Taylor-Joy, Haley Lu Richar...  2016   \n",
       "4     Matthew McConaughey,Reese Witherspoon, Seth Ma...  2016   \n",
       "5     Will Smith, Jared Leto, Margot Robbie, Viola D...  2016   \n",
       "...                                                 ...   ...   \n",
       "996   Chiwetel Ejiofor, Nicole Kidman, Julia Roberts...  2015   \n",
       "997   Lauren German, Heather Matarazzo, Bijou Philli...  2007   \n",
       "998   Robert Hoffman, Briana Evigan, Cassie Ventura,...  2008   \n",
       "999   Adam Pally, T.J. Miller, Thomas Middleditch,Sh...  2014   \n",
       "1000  Kevin Spacey, Jennifer Garner, Robbie Amell,Ch...  2016   \n",
       "\n",
       "      Runtime (Minutes)  Rating   Votes  Revenue (Millions)  Metascore  \n",
       "Rank                                                                    \n",
       "1                   121     8.1  757074              333.13       76.0  \n",
       "2                   124     7.0  485820              126.46       65.0  \n",
       "3                   117     7.3  157606              138.12       62.0  \n",
       "4                   108     7.2   60545              270.32       59.0  \n",
       "5                   123     6.2  393727              325.02       40.0  \n",
       "...                 ...     ...     ...                 ...        ...  \n",
       "996                 111     6.2   27585                 NaN       45.0  \n",
       "997                  94     5.5   73152               17.54       46.0  \n",
       "998                  98     6.2   70699               58.01       50.0  \n",
       "999                  93     5.6    4881                 NaN       22.0  \n",
       "1000                 87     5.3   12435               19.64       11.0  \n",
       "\n",
       "[1000 rows x 11 columns]"
      ]
     },
     "execution_count": 40,
     "metadata": {},
     "output_type": "execute_result"
    }
   ],
   "source": [
    "data_new.drop_duplicates()"
   ]
  },
  {
   "cell_type": "code",
   "execution_count": 41,
   "metadata": {},
   "outputs": [
    {
     "data": {
      "text/plain": [
       "(1000, 11)"
      ]
     },
     "execution_count": 41,
     "metadata": {},
     "output_type": "execute_result"
    }
   ],
   "source": [
    "data_new.drop_duplicates().shape"
   ]
  },
  {
   "cell_type": "markdown",
   "metadata": {},
   "source": [
    "  ### But the size of data_new is not change,to show it's original values we have to put (inplace=True)"
   ]
  },
  {
   "cell_type": "code",
   "execution_count": 42,
   "metadata": {},
   "outputs": [
    {
     "data": {
      "text/plain": [
       "(2000, 11)"
      ]
     },
     "execution_count": 42,
     "metadata": {},
     "output_type": "execute_result"
    }
   ],
   "source": [
    "data_new.shape"
   ]
  },
  {
   "cell_type": "code",
   "execution_count": 43,
   "metadata": {},
   "outputs": [],
   "source": [
    "data_new.drop_duplicates(inplace=True)"
   ]
  },
  {
   "cell_type": "code",
   "execution_count": 44,
   "metadata": {},
   "outputs": [
    {
     "data": {
      "text/plain": [
       "(1000, 11)"
      ]
     },
     "execution_count": 44,
     "metadata": {},
     "output_type": "execute_result"
    }
   ],
   "source": [
    "data_new.shape"
   ]
  },
  {
   "cell_type": "code",
   "execution_count": 45,
   "metadata": {},
   "outputs": [
    {
     "data": {
      "text/plain": [
       "Index(['Title', 'Genre', 'Description', 'Director', 'Actors', 'Year',\n",
       "       'Runtime (Minutes)', 'Rating', 'Votes', 'Revenue (Millions)',\n",
       "       'Metascore'],\n",
       "      dtype='object')"
      ]
     },
     "execution_count": 45,
     "metadata": {},
     "output_type": "execute_result"
    }
   ],
   "source": [
    "k = data.columns\n",
    "k"
   ]
  },
  {
   "cell_type": "code",
   "execution_count": 46,
   "metadata": {},
   "outputs": [
    {
     "data": {
      "text/plain": [
       "11"
      ]
     },
     "execution_count": 46,
     "metadata": {},
     "output_type": "execute_result"
    }
   ],
   "source": [
    "len(data.columns)"
   ]
  },
  {
   "cell_type": "code",
   "execution_count": 47,
   "metadata": {
    "scrolled": true
   },
   "outputs": [
    {
     "data": {
      "text/plain": [
       "pandas.core.indexes.base.Index"
      ]
     },
     "execution_count": 47,
     "metadata": {},
     "output_type": "execute_result"
    }
   ],
   "source": [
    "type(k)"
   ]
  },
  {
   "cell_type": "code",
   "execution_count": 48,
   "metadata": {
    "scrolled": false
   },
   "outputs": [
    {
     "data": {
      "text/html": [
       "<div>\n",
       "<style scoped>\n",
       "    .dataframe tbody tr th:only-of-type {\n",
       "        vertical-align: middle;\n",
       "    }\n",
       "\n",
       "    .dataframe tbody tr th {\n",
       "        vertical-align: top;\n",
       "    }\n",
       "\n",
       "    .dataframe thead th {\n",
       "        text-align: right;\n",
       "    }\n",
       "</style>\n",
       "<table border=\"1\" class=\"dataframe\">\n",
       "  <thead>\n",
       "    <tr style=\"text-align: right;\">\n",
       "      <th></th>\n",
       "      <th>Year</th>\n",
       "      <th>Runtime (Minutes)</th>\n",
       "      <th>Rating</th>\n",
       "      <th>Votes</th>\n",
       "      <th>Revenue (Millions)</th>\n",
       "      <th>Metascore</th>\n",
       "    </tr>\n",
       "  </thead>\n",
       "  <tbody>\n",
       "    <tr>\n",
       "      <th>count</th>\n",
       "      <td>1000.000000</td>\n",
       "      <td>1000.000000</td>\n",
       "      <td>1000.000000</td>\n",
       "      <td>1.000000e+03</td>\n",
       "      <td>872.000000</td>\n",
       "      <td>936.000000</td>\n",
       "    </tr>\n",
       "    <tr>\n",
       "      <th>mean</th>\n",
       "      <td>2012.783000</td>\n",
       "      <td>113.172000</td>\n",
       "      <td>6.723200</td>\n",
       "      <td>1.698083e+05</td>\n",
       "      <td>82.956376</td>\n",
       "      <td>58.985043</td>\n",
       "    </tr>\n",
       "    <tr>\n",
       "      <th>std</th>\n",
       "      <td>3.205962</td>\n",
       "      <td>18.810908</td>\n",
       "      <td>0.945429</td>\n",
       "      <td>1.887626e+05</td>\n",
       "      <td>103.253540</td>\n",
       "      <td>17.194757</td>\n",
       "    </tr>\n",
       "    <tr>\n",
       "      <th>min</th>\n",
       "      <td>2006.000000</td>\n",
       "      <td>66.000000</td>\n",
       "      <td>1.900000</td>\n",
       "      <td>6.100000e+01</td>\n",
       "      <td>0.000000</td>\n",
       "      <td>11.000000</td>\n",
       "    </tr>\n",
       "    <tr>\n",
       "      <th>25%</th>\n",
       "      <td>2010.000000</td>\n",
       "      <td>100.000000</td>\n",
       "      <td>6.200000</td>\n",
       "      <td>3.630900e+04</td>\n",
       "      <td>13.270000</td>\n",
       "      <td>47.000000</td>\n",
       "    </tr>\n",
       "    <tr>\n",
       "      <th>50%</th>\n",
       "      <td>2014.000000</td>\n",
       "      <td>111.000000</td>\n",
       "      <td>6.800000</td>\n",
       "      <td>1.107990e+05</td>\n",
       "      <td>47.985000</td>\n",
       "      <td>59.500000</td>\n",
       "    </tr>\n",
       "    <tr>\n",
       "      <th>75%</th>\n",
       "      <td>2016.000000</td>\n",
       "      <td>123.000000</td>\n",
       "      <td>7.400000</td>\n",
       "      <td>2.399098e+05</td>\n",
       "      <td>113.715000</td>\n",
       "      <td>72.000000</td>\n",
       "    </tr>\n",
       "    <tr>\n",
       "      <th>max</th>\n",
       "      <td>2016.000000</td>\n",
       "      <td>191.000000</td>\n",
       "      <td>9.000000</td>\n",
       "      <td>1.791916e+06</td>\n",
       "      <td>936.630000</td>\n",
       "      <td>100.000000</td>\n",
       "    </tr>\n",
       "  </tbody>\n",
       "</table>\n",
       "</div>"
      ],
      "text/plain": [
       "              Year  Runtime (Minutes)       Rating         Votes  \\\n",
       "count  1000.000000        1000.000000  1000.000000  1.000000e+03   \n",
       "mean   2012.783000         113.172000     6.723200  1.698083e+05   \n",
       "std       3.205962          18.810908     0.945429  1.887626e+05   \n",
       "min    2006.000000          66.000000     1.900000  6.100000e+01   \n",
       "25%    2010.000000         100.000000     6.200000  3.630900e+04   \n",
       "50%    2014.000000         111.000000     6.800000  1.107990e+05   \n",
       "75%    2016.000000         123.000000     7.400000  2.399098e+05   \n",
       "max    2016.000000         191.000000     9.000000  1.791916e+06   \n",
       "\n",
       "       Revenue (Millions)   Metascore  \n",
       "count          872.000000  936.000000  \n",
       "mean            82.956376   58.985043  \n",
       "std            103.253540   17.194757  \n",
       "min              0.000000   11.000000  \n",
       "25%             13.270000   47.000000  \n",
       "50%             47.985000   59.500000  \n",
       "75%            113.715000   72.000000  \n",
       "max            936.630000  100.000000  "
      ]
     },
     "execution_count": 48,
     "metadata": {},
     "output_type": "execute_result"
    }
   ],
   "source": [
    "data.describe()"
   ]
  },
  {
   "cell_type": "markdown",
   "metadata": {},
   "source": [
    "# Rename The Column "
   ]
  },
  {
   "cell_type": "markdown",
   "metadata": {},
   "source": [
    "### first way"
   ]
  },
  {
   "cell_type": "code",
   "execution_count": 49,
   "metadata": {},
   "outputs": [
    {
     "data": {
      "text/html": [
       "<div>\n",
       "<style scoped>\n",
       "    .dataframe tbody tr th:only-of-type {\n",
       "        vertical-align: middle;\n",
       "    }\n",
       "\n",
       "    .dataframe tbody tr th {\n",
       "        vertical-align: top;\n",
       "    }\n",
       "\n",
       "    .dataframe thead th {\n",
       "        text-align: right;\n",
       "    }\n",
       "</style>\n",
       "<table border=\"1\" class=\"dataframe\">\n",
       "  <thead>\n",
       "    <tr style=\"text-align: right;\">\n",
       "      <th></th>\n",
       "      <th>Title</th>\n",
       "      <th>Genre</th>\n",
       "      <th>Description</th>\n",
       "      <th>Director</th>\n",
       "      <th>Actors</th>\n",
       "      <th>Year</th>\n",
       "      <th>Runtime (Minutes)</th>\n",
       "      <th>Rating</th>\n",
       "      <th>Votes</th>\n",
       "      <th>Revenue (Millions)</th>\n",
       "      <th>Metascore</th>\n",
       "    </tr>\n",
       "    <tr>\n",
       "      <th>Rank</th>\n",
       "      <th></th>\n",
       "      <th></th>\n",
       "      <th></th>\n",
       "      <th></th>\n",
       "      <th></th>\n",
       "      <th></th>\n",
       "      <th></th>\n",
       "      <th></th>\n",
       "      <th></th>\n",
       "      <th></th>\n",
       "      <th></th>\n",
       "    </tr>\n",
       "  </thead>\n",
       "  <tbody>\n",
       "    <tr>\n",
       "      <th>1</th>\n",
       "      <td>Guardians of the Galaxy</td>\n",
       "      <td>Action,Adventure,Sci-Fi</td>\n",
       "      <td>A group of intergalactic criminals are forced ...</td>\n",
       "      <td>James Gunn</td>\n",
       "      <td>Chris Pratt, Vin Diesel, Bradley Cooper, Zoe S...</td>\n",
       "      <td>2014</td>\n",
       "      <td>121</td>\n",
       "      <td>8.1</td>\n",
       "      <td>757074</td>\n",
       "      <td>333.13</td>\n",
       "      <td>76.0</td>\n",
       "    </tr>\n",
       "    <tr>\n",
       "      <th>2</th>\n",
       "      <td>Prometheus</td>\n",
       "      <td>Adventure,Mystery,Sci-Fi</td>\n",
       "      <td>Following clues to the origin of mankind, a te...</td>\n",
       "      <td>Ridley Scott</td>\n",
       "      <td>Noomi Rapace, Logan Marshall-Green, Michael Fa...</td>\n",
       "      <td>2012</td>\n",
       "      <td>124</td>\n",
       "      <td>7.0</td>\n",
       "      <td>485820</td>\n",
       "      <td>126.46</td>\n",
       "      <td>65.0</td>\n",
       "    </tr>\n",
       "    <tr>\n",
       "      <th>3</th>\n",
       "      <td>Split</td>\n",
       "      <td>Horror,Thriller</td>\n",
       "      <td>Three girls are kidnapped by a man with a diag...</td>\n",
       "      <td>M. Night Shyamalan</td>\n",
       "      <td>James McAvoy, Anya Taylor-Joy, Haley Lu Richar...</td>\n",
       "      <td>2016</td>\n",
       "      <td>117</td>\n",
       "      <td>7.3</td>\n",
       "      <td>157606</td>\n",
       "      <td>138.12</td>\n",
       "      <td>62.0</td>\n",
       "    </tr>\n",
       "    <tr>\n",
       "      <th>4</th>\n",
       "      <td>Sing</td>\n",
       "      <td>Animation,Comedy,Family</td>\n",
       "      <td>In a city of humanoid animals, a hustling thea...</td>\n",
       "      <td>Christophe Lourdelet</td>\n",
       "      <td>Matthew McConaughey,Reese Witherspoon, Seth Ma...</td>\n",
       "      <td>2016</td>\n",
       "      <td>108</td>\n",
       "      <td>7.2</td>\n",
       "      <td>60545</td>\n",
       "      <td>270.32</td>\n",
       "      <td>59.0</td>\n",
       "    </tr>\n",
       "    <tr>\n",
       "      <th>5</th>\n",
       "      <td>Suicide Squad</td>\n",
       "      <td>Action,Adventure,Fantasy</td>\n",
       "      <td>A secret government agency recruits some of th...</td>\n",
       "      <td>David Ayer</td>\n",
       "      <td>Will Smith, Jared Leto, Margot Robbie, Viola D...</td>\n",
       "      <td>2016</td>\n",
       "      <td>123</td>\n",
       "      <td>6.2</td>\n",
       "      <td>393727</td>\n",
       "      <td>325.02</td>\n",
       "      <td>40.0</td>\n",
       "    </tr>\n",
       "  </tbody>\n",
       "</table>\n",
       "</div>"
      ],
      "text/plain": [
       "                        Title                     Genre  \\\n",
       "Rank                                                      \n",
       "1     Guardians of the Galaxy   Action,Adventure,Sci-Fi   \n",
       "2                  Prometheus  Adventure,Mystery,Sci-Fi   \n",
       "3                       Split           Horror,Thriller   \n",
       "4                        Sing   Animation,Comedy,Family   \n",
       "5               Suicide Squad  Action,Adventure,Fantasy   \n",
       "\n",
       "                                            Description              Director  \\\n",
       "Rank                                                                            \n",
       "1     A group of intergalactic criminals are forced ...            James Gunn   \n",
       "2     Following clues to the origin of mankind, a te...          Ridley Scott   \n",
       "3     Three girls are kidnapped by a man with a diag...    M. Night Shyamalan   \n",
       "4     In a city of humanoid animals, a hustling thea...  Christophe Lourdelet   \n",
       "5     A secret government agency recruits some of th...            David Ayer   \n",
       "\n",
       "                                                 Actors  Year  \\\n",
       "Rank                                                            \n",
       "1     Chris Pratt, Vin Diesel, Bradley Cooper, Zoe S...  2014   \n",
       "2     Noomi Rapace, Logan Marshall-Green, Michael Fa...  2012   \n",
       "3     James McAvoy, Anya Taylor-Joy, Haley Lu Richar...  2016   \n",
       "4     Matthew McConaughey,Reese Witherspoon, Seth Ma...  2016   \n",
       "5     Will Smith, Jared Leto, Margot Robbie, Viola D...  2016   \n",
       "\n",
       "      Runtime (Minutes)  Rating   Votes  Revenue (Millions)  Metascore  \n",
       "Rank                                                                    \n",
       "1                   121     8.1  757074              333.13       76.0  \n",
       "2                   124     7.0  485820              126.46       65.0  \n",
       "3                   117     7.3  157606              138.12       62.0  \n",
       "4                   108     7.2   60545              270.32       59.0  \n",
       "5                   123     6.2  393727              325.02       40.0  "
      ]
     },
     "execution_count": 49,
     "metadata": {},
     "output_type": "execute_result"
    }
   ],
   "source": [
    "data.head()"
   ]
  },
  {
   "cell_type": "code",
   "execution_count": 50,
   "metadata": {},
   "outputs": [],
   "source": [
    "change_data = data.iloc[0:5,0:7]"
   ]
  },
  {
   "cell_type": "code",
   "execution_count": 51,
   "metadata": {},
   "outputs": [
    {
     "data": {
      "text/plain": [
       "(5, 7)"
      ]
     },
     "execution_count": 51,
     "metadata": {},
     "output_type": "execute_result"
    }
   ],
   "source": [
    "change_data.shape"
   ]
  },
  {
   "cell_type": "code",
   "execution_count": 52,
   "metadata": {},
   "outputs": [],
   "source": [
    "col = ['A','B','C','D','E','F','G']"
   ]
  },
  {
   "cell_type": "code",
   "execution_count": 53,
   "metadata": {},
   "outputs": [],
   "source": [
    "change_data.columns = col"
   ]
  },
  {
   "cell_type": "code",
   "execution_count": 54,
   "metadata": {},
   "outputs": [
    {
     "data": {
      "text/html": [
       "<div>\n",
       "<style scoped>\n",
       "    .dataframe tbody tr th:only-of-type {\n",
       "        vertical-align: middle;\n",
       "    }\n",
       "\n",
       "    .dataframe tbody tr th {\n",
       "        vertical-align: top;\n",
       "    }\n",
       "\n",
       "    .dataframe thead th {\n",
       "        text-align: right;\n",
       "    }\n",
       "</style>\n",
       "<table border=\"1\" class=\"dataframe\">\n",
       "  <thead>\n",
       "    <tr style=\"text-align: right;\">\n",
       "      <th></th>\n",
       "      <th>A</th>\n",
       "      <th>B</th>\n",
       "      <th>C</th>\n",
       "      <th>D</th>\n",
       "      <th>E</th>\n",
       "      <th>F</th>\n",
       "      <th>G</th>\n",
       "    </tr>\n",
       "    <tr>\n",
       "      <th>Rank</th>\n",
       "      <th></th>\n",
       "      <th></th>\n",
       "      <th></th>\n",
       "      <th></th>\n",
       "      <th></th>\n",
       "      <th></th>\n",
       "      <th></th>\n",
       "    </tr>\n",
       "  </thead>\n",
       "  <tbody>\n",
       "    <tr>\n",
       "      <th>1</th>\n",
       "      <td>Guardians of the Galaxy</td>\n",
       "      <td>Action,Adventure,Sci-Fi</td>\n",
       "      <td>A group of intergalactic criminals are forced ...</td>\n",
       "      <td>James Gunn</td>\n",
       "      <td>Chris Pratt, Vin Diesel, Bradley Cooper, Zoe S...</td>\n",
       "      <td>2014</td>\n",
       "      <td>121</td>\n",
       "    </tr>\n",
       "    <tr>\n",
       "      <th>2</th>\n",
       "      <td>Prometheus</td>\n",
       "      <td>Adventure,Mystery,Sci-Fi</td>\n",
       "      <td>Following clues to the origin of mankind, a te...</td>\n",
       "      <td>Ridley Scott</td>\n",
       "      <td>Noomi Rapace, Logan Marshall-Green, Michael Fa...</td>\n",
       "      <td>2012</td>\n",
       "      <td>124</td>\n",
       "    </tr>\n",
       "    <tr>\n",
       "      <th>3</th>\n",
       "      <td>Split</td>\n",
       "      <td>Horror,Thriller</td>\n",
       "      <td>Three girls are kidnapped by a man with a diag...</td>\n",
       "      <td>M. Night Shyamalan</td>\n",
       "      <td>James McAvoy, Anya Taylor-Joy, Haley Lu Richar...</td>\n",
       "      <td>2016</td>\n",
       "      <td>117</td>\n",
       "    </tr>\n",
       "    <tr>\n",
       "      <th>4</th>\n",
       "      <td>Sing</td>\n",
       "      <td>Animation,Comedy,Family</td>\n",
       "      <td>In a city of humanoid animals, a hustling thea...</td>\n",
       "      <td>Christophe Lourdelet</td>\n",
       "      <td>Matthew McConaughey,Reese Witherspoon, Seth Ma...</td>\n",
       "      <td>2016</td>\n",
       "      <td>108</td>\n",
       "    </tr>\n",
       "    <tr>\n",
       "      <th>5</th>\n",
       "      <td>Suicide Squad</td>\n",
       "      <td>Action,Adventure,Fantasy</td>\n",
       "      <td>A secret government agency recruits some of th...</td>\n",
       "      <td>David Ayer</td>\n",
       "      <td>Will Smith, Jared Leto, Margot Robbie, Viola D...</td>\n",
       "      <td>2016</td>\n",
       "      <td>123</td>\n",
       "    </tr>\n",
       "  </tbody>\n",
       "</table>\n",
       "</div>"
      ],
      "text/plain": [
       "                            A                         B  \\\n",
       "Rank                                                      \n",
       "1     Guardians of the Galaxy   Action,Adventure,Sci-Fi   \n",
       "2                  Prometheus  Adventure,Mystery,Sci-Fi   \n",
       "3                       Split           Horror,Thriller   \n",
       "4                        Sing   Animation,Comedy,Family   \n",
       "5               Suicide Squad  Action,Adventure,Fantasy   \n",
       "\n",
       "                                                      C                     D  \\\n",
       "Rank                                                                            \n",
       "1     A group of intergalactic criminals are forced ...            James Gunn   \n",
       "2     Following clues to the origin of mankind, a te...          Ridley Scott   \n",
       "3     Three girls are kidnapped by a man with a diag...    M. Night Shyamalan   \n",
       "4     In a city of humanoid animals, a hustling thea...  Christophe Lourdelet   \n",
       "5     A secret government agency recruits some of th...            David Ayer   \n",
       "\n",
       "                                                      E     F    G  \n",
       "Rank                                                                \n",
       "1     Chris Pratt, Vin Diesel, Bradley Cooper, Zoe S...  2014  121  \n",
       "2     Noomi Rapace, Logan Marshall-Green, Michael Fa...  2012  124  \n",
       "3     James McAvoy, Anya Taylor-Joy, Haley Lu Richar...  2016  117  \n",
       "4     Matthew McConaughey,Reese Witherspoon, Seth Ma...  2016  108  \n",
       "5     Will Smith, Jared Leto, Margot Robbie, Viola D...  2016  123  "
      ]
     },
     "execution_count": 54,
     "metadata": {},
     "output_type": "execute_result"
    }
   ],
   "source": [
    "change_data"
   ]
  },
  {
   "cell_type": "markdown",
   "metadata": {},
   "source": [
    "### change column using dictionaries"
   ]
  },
  {
   "cell_type": "code",
   "execution_count": 55,
   "metadata": {},
   "outputs": [
    {
     "data": {
      "text/html": [
       "<div>\n",
       "<style scoped>\n",
       "    .dataframe tbody tr th:only-of-type {\n",
       "        vertical-align: middle;\n",
       "    }\n",
       "\n",
       "    .dataframe tbody tr th {\n",
       "        vertical-align: top;\n",
       "    }\n",
       "\n",
       "    .dataframe thead th {\n",
       "        text-align: right;\n",
       "    }\n",
       "</style>\n",
       "<table border=\"1\" class=\"dataframe\">\n",
       "  <thead>\n",
       "    <tr style=\"text-align: right;\">\n",
       "      <th></th>\n",
       "      <th>shubham</th>\n",
       "      <th>jha</th>\n",
       "      <th>is</th>\n",
       "      <th>always</th>\n",
       "      <th>for</th>\n",
       "      <th>you</th>\n",
       "      <th>G</th>\n",
       "    </tr>\n",
       "    <tr>\n",
       "      <th>Rank</th>\n",
       "      <th></th>\n",
       "      <th></th>\n",
       "      <th></th>\n",
       "      <th></th>\n",
       "      <th></th>\n",
       "      <th></th>\n",
       "      <th></th>\n",
       "    </tr>\n",
       "  </thead>\n",
       "  <tbody>\n",
       "    <tr>\n",
       "      <th>1</th>\n",
       "      <td>Guardians of the Galaxy</td>\n",
       "      <td>Action,Adventure,Sci-Fi</td>\n",
       "      <td>A group of intergalactic criminals are forced ...</td>\n",
       "      <td>James Gunn</td>\n",
       "      <td>Chris Pratt, Vin Diesel, Bradley Cooper, Zoe S...</td>\n",
       "      <td>2014</td>\n",
       "      <td>121</td>\n",
       "    </tr>\n",
       "    <tr>\n",
       "      <th>2</th>\n",
       "      <td>Prometheus</td>\n",
       "      <td>Adventure,Mystery,Sci-Fi</td>\n",
       "      <td>Following clues to the origin of mankind, a te...</td>\n",
       "      <td>Ridley Scott</td>\n",
       "      <td>Noomi Rapace, Logan Marshall-Green, Michael Fa...</td>\n",
       "      <td>2012</td>\n",
       "      <td>124</td>\n",
       "    </tr>\n",
       "    <tr>\n",
       "      <th>3</th>\n",
       "      <td>Split</td>\n",
       "      <td>Horror,Thriller</td>\n",
       "      <td>Three girls are kidnapped by a man with a diag...</td>\n",
       "      <td>M. Night Shyamalan</td>\n",
       "      <td>James McAvoy, Anya Taylor-Joy, Haley Lu Richar...</td>\n",
       "      <td>2016</td>\n",
       "      <td>117</td>\n",
       "    </tr>\n",
       "    <tr>\n",
       "      <th>4</th>\n",
       "      <td>Sing</td>\n",
       "      <td>Animation,Comedy,Family</td>\n",
       "      <td>In a city of humanoid animals, a hustling thea...</td>\n",
       "      <td>Christophe Lourdelet</td>\n",
       "      <td>Matthew McConaughey,Reese Witherspoon, Seth Ma...</td>\n",
       "      <td>2016</td>\n",
       "      <td>108</td>\n",
       "    </tr>\n",
       "    <tr>\n",
       "      <th>5</th>\n",
       "      <td>Suicide Squad</td>\n",
       "      <td>Action,Adventure,Fantasy</td>\n",
       "      <td>A secret government agency recruits some of th...</td>\n",
       "      <td>David Ayer</td>\n",
       "      <td>Will Smith, Jared Leto, Margot Robbie, Viola D...</td>\n",
       "      <td>2016</td>\n",
       "      <td>123</td>\n",
       "    </tr>\n",
       "  </tbody>\n",
       "</table>\n",
       "</div>"
      ],
      "text/plain": [
       "                      shubham                       jha  \\\n",
       "Rank                                                      \n",
       "1     Guardians of the Galaxy   Action,Adventure,Sci-Fi   \n",
       "2                  Prometheus  Adventure,Mystery,Sci-Fi   \n",
       "3                       Split           Horror,Thriller   \n",
       "4                        Sing   Animation,Comedy,Family   \n",
       "5               Suicide Squad  Action,Adventure,Fantasy   \n",
       "\n",
       "                                                     is                always  \\\n",
       "Rank                                                                            \n",
       "1     A group of intergalactic criminals are forced ...            James Gunn   \n",
       "2     Following clues to the origin of mankind, a te...          Ridley Scott   \n",
       "3     Three girls are kidnapped by a man with a diag...    M. Night Shyamalan   \n",
       "4     In a city of humanoid animals, a hustling thea...  Christophe Lourdelet   \n",
       "5     A secret government agency recruits some of th...            David Ayer   \n",
       "\n",
       "                                                    for   you    G  \n",
       "Rank                                                                \n",
       "1     Chris Pratt, Vin Diesel, Bradley Cooper, Zoe S...  2014  121  \n",
       "2     Noomi Rapace, Logan Marshall-Green, Michael Fa...  2012  124  \n",
       "3     James McAvoy, Anya Taylor-Joy, Haley Lu Richar...  2016  117  \n",
       "4     Matthew McConaughey,Reese Witherspoon, Seth Ma...  2016  108  \n",
       "5     Will Smith, Jared Leto, Margot Robbie, Viola D...  2016  123  "
      ]
     },
     "execution_count": 55,
     "metadata": {},
     "output_type": "execute_result"
    }
   ],
   "source": [
    "change_data.rename(columns ={ 'A':'shubham',\n",
    "                             'B':'jha',\n",
    "                             'C':'is',\n",
    "                             'D':'always',\n",
    "                             'E':'for',\n",
    "                             'F':'you'\n",
    "    \n",
    "})"
   ]
  },
  {
   "cell_type": "code",
   "execution_count": 56,
   "metadata": {},
   "outputs": [],
   "source": [
    "import numpy as np"
   ]
  },
  {
   "cell_type": "code",
   "execution_count": 57,
   "metadata": {},
   "outputs": [
    {
     "data": {
      "text/plain": [
       "nan"
      ]
     },
     "execution_count": 57,
     "metadata": {},
     "output_type": "execute_result"
    }
   ],
   "source": [
    "np.nan"
   ]
  },
  {
   "cell_type": "markdown",
   "metadata": {},
   "source": [
    "### nan means not a number"
   ]
  },
  {
   "cell_type": "code",
   "execution_count": 58,
   "metadata": {},
   "outputs": [
    {
     "data": {
      "text/html": [
       "<div>\n",
       "<style scoped>\n",
       "    .dataframe tbody tr th:only-of-type {\n",
       "        vertical-align: middle;\n",
       "    }\n",
       "\n",
       "    .dataframe tbody tr th {\n",
       "        vertical-align: top;\n",
       "    }\n",
       "\n",
       "    .dataframe thead th {\n",
       "        text-align: right;\n",
       "    }\n",
       "</style>\n",
       "<table border=\"1\" class=\"dataframe\">\n",
       "  <thead>\n",
       "    <tr style=\"text-align: right;\">\n",
       "      <th></th>\n",
       "      <th>Title</th>\n",
       "      <th>Genre</th>\n",
       "      <th>Description</th>\n",
       "      <th>Director</th>\n",
       "      <th>Actors</th>\n",
       "      <th>Year</th>\n",
       "      <th>Runtime (Minutes)</th>\n",
       "      <th>Rating</th>\n",
       "      <th>Votes</th>\n",
       "      <th>Revenue (Millions)</th>\n",
       "      <th>Metascore</th>\n",
       "    </tr>\n",
       "    <tr>\n",
       "      <th>Rank</th>\n",
       "      <th></th>\n",
       "      <th></th>\n",
       "      <th></th>\n",
       "      <th></th>\n",
       "      <th></th>\n",
       "      <th></th>\n",
       "      <th></th>\n",
       "      <th></th>\n",
       "      <th></th>\n",
       "      <th></th>\n",
       "      <th></th>\n",
       "    </tr>\n",
       "  </thead>\n",
       "  <tbody>\n",
       "    <tr>\n",
       "      <th>1</th>\n",
       "      <td>Guardians of the Galaxy</td>\n",
       "      <td>Action,Adventure,Sci-Fi</td>\n",
       "      <td>A group of intergalactic criminals are forced ...</td>\n",
       "      <td>James Gunn</td>\n",
       "      <td>Chris Pratt, Vin Diesel, Bradley Cooper, Zoe S...</td>\n",
       "      <td>2014</td>\n",
       "      <td>121</td>\n",
       "      <td>8.1</td>\n",
       "      <td>757074</td>\n",
       "      <td>333.13</td>\n",
       "      <td>76.0</td>\n",
       "    </tr>\n",
       "    <tr>\n",
       "      <th>2</th>\n",
       "      <td>Prometheus</td>\n",
       "      <td>Adventure,Mystery,Sci-Fi</td>\n",
       "      <td>Following clues to the origin of mankind, a te...</td>\n",
       "      <td>Ridley Scott</td>\n",
       "      <td>Noomi Rapace, Logan Marshall-Green, Michael Fa...</td>\n",
       "      <td>2012</td>\n",
       "      <td>124</td>\n",
       "      <td>7.0</td>\n",
       "      <td>485820</td>\n",
       "      <td>126.46</td>\n",
       "      <td>65.0</td>\n",
       "    </tr>\n",
       "    <tr>\n",
       "      <th>3</th>\n",
       "      <td>Split</td>\n",
       "      <td>Horror,Thriller</td>\n",
       "      <td>Three girls are kidnapped by a man with a diag...</td>\n",
       "      <td>M. Night Shyamalan</td>\n",
       "      <td>James McAvoy, Anya Taylor-Joy, Haley Lu Richar...</td>\n",
       "      <td>2016</td>\n",
       "      <td>117</td>\n",
       "      <td>7.3</td>\n",
       "      <td>157606</td>\n",
       "      <td>138.12</td>\n",
       "      <td>62.0</td>\n",
       "    </tr>\n",
       "    <tr>\n",
       "      <th>4</th>\n",
       "      <td>Sing</td>\n",
       "      <td>Animation,Comedy,Family</td>\n",
       "      <td>In a city of humanoid animals, a hustling thea...</td>\n",
       "      <td>Christophe Lourdelet</td>\n",
       "      <td>Matthew McConaughey,Reese Witherspoon, Seth Ma...</td>\n",
       "      <td>2016</td>\n",
       "      <td>108</td>\n",
       "      <td>7.2</td>\n",
       "      <td>60545</td>\n",
       "      <td>270.32</td>\n",
       "      <td>59.0</td>\n",
       "    </tr>\n",
       "    <tr>\n",
       "      <th>5</th>\n",
       "      <td>Suicide Squad</td>\n",
       "      <td>Action,Adventure,Fantasy</td>\n",
       "      <td>A secret government agency recruits some of th...</td>\n",
       "      <td>David Ayer</td>\n",
       "      <td>Will Smith, Jared Leto, Margot Robbie, Viola D...</td>\n",
       "      <td>2016</td>\n",
       "      <td>123</td>\n",
       "      <td>6.2</td>\n",
       "      <td>393727</td>\n",
       "      <td>325.02</td>\n",
       "      <td>40.0</td>\n",
       "    </tr>\n",
       "    <tr>\n",
       "      <th>...</th>\n",
       "      <td>...</td>\n",
       "      <td>...</td>\n",
       "      <td>...</td>\n",
       "      <td>...</td>\n",
       "      <td>...</td>\n",
       "      <td>...</td>\n",
       "      <td>...</td>\n",
       "      <td>...</td>\n",
       "      <td>...</td>\n",
       "      <td>...</td>\n",
       "      <td>...</td>\n",
       "    </tr>\n",
       "    <tr>\n",
       "      <th>996</th>\n",
       "      <td>Secret in Their Eyes</td>\n",
       "      <td>Crime,Drama,Mystery</td>\n",
       "      <td>A tight-knit team of rising investigators, alo...</td>\n",
       "      <td>Billy Ray</td>\n",
       "      <td>Chiwetel Ejiofor, Nicole Kidman, Julia Roberts...</td>\n",
       "      <td>2015</td>\n",
       "      <td>111</td>\n",
       "      <td>6.2</td>\n",
       "      <td>27585</td>\n",
       "      <td>NaN</td>\n",
       "      <td>45.0</td>\n",
       "    </tr>\n",
       "    <tr>\n",
       "      <th>997</th>\n",
       "      <td>Hostel: Part II</td>\n",
       "      <td>Horror</td>\n",
       "      <td>Three American college students studying abroa...</td>\n",
       "      <td>Eli Roth</td>\n",
       "      <td>Lauren German, Heather Matarazzo, Bijou Philli...</td>\n",
       "      <td>2007</td>\n",
       "      <td>94</td>\n",
       "      <td>5.5</td>\n",
       "      <td>73152</td>\n",
       "      <td>17.54</td>\n",
       "      <td>46.0</td>\n",
       "    </tr>\n",
       "    <tr>\n",
       "      <th>998</th>\n",
       "      <td>Step Up 2: The Streets</td>\n",
       "      <td>Drama,Music,Romance</td>\n",
       "      <td>Romantic sparks occur between two dance studen...</td>\n",
       "      <td>Jon M. Chu</td>\n",
       "      <td>Robert Hoffman, Briana Evigan, Cassie Ventura,...</td>\n",
       "      <td>2008</td>\n",
       "      <td>98</td>\n",
       "      <td>6.2</td>\n",
       "      <td>70699</td>\n",
       "      <td>58.01</td>\n",
       "      <td>50.0</td>\n",
       "    </tr>\n",
       "    <tr>\n",
       "      <th>999</th>\n",
       "      <td>Search Party</td>\n",
       "      <td>Adventure,Comedy</td>\n",
       "      <td>A pair of friends embark on a mission to reuni...</td>\n",
       "      <td>Scot Armstrong</td>\n",
       "      <td>Adam Pally, T.J. Miller, Thomas Middleditch,Sh...</td>\n",
       "      <td>2014</td>\n",
       "      <td>93</td>\n",
       "      <td>5.6</td>\n",
       "      <td>4881</td>\n",
       "      <td>NaN</td>\n",
       "      <td>22.0</td>\n",
       "    </tr>\n",
       "    <tr>\n",
       "      <th>1000</th>\n",
       "      <td>Nine Lives</td>\n",
       "      <td>Comedy,Family,Fantasy</td>\n",
       "      <td>A stuffy businessman finds himself trapped ins...</td>\n",
       "      <td>Barry Sonnenfeld</td>\n",
       "      <td>Kevin Spacey, Jennifer Garner, Robbie Amell,Ch...</td>\n",
       "      <td>2016</td>\n",
       "      <td>87</td>\n",
       "      <td>5.3</td>\n",
       "      <td>12435</td>\n",
       "      <td>19.64</td>\n",
       "      <td>11.0</td>\n",
       "    </tr>\n",
       "  </tbody>\n",
       "</table>\n",
       "<p>1000 rows × 11 columns</p>\n",
       "</div>"
      ],
      "text/plain": [
       "                        Title                     Genre  \\\n",
       "Rank                                                      \n",
       "1     Guardians of the Galaxy   Action,Adventure,Sci-Fi   \n",
       "2                  Prometheus  Adventure,Mystery,Sci-Fi   \n",
       "3                       Split           Horror,Thriller   \n",
       "4                        Sing   Animation,Comedy,Family   \n",
       "5               Suicide Squad  Action,Adventure,Fantasy   \n",
       "...                       ...                       ...   \n",
       "996      Secret in Their Eyes       Crime,Drama,Mystery   \n",
       "997           Hostel: Part II                    Horror   \n",
       "998    Step Up 2: The Streets       Drama,Music,Romance   \n",
       "999              Search Party          Adventure,Comedy   \n",
       "1000               Nine Lives     Comedy,Family,Fantasy   \n",
       "\n",
       "                                            Description              Director  \\\n",
       "Rank                                                                            \n",
       "1     A group of intergalactic criminals are forced ...            James Gunn   \n",
       "2     Following clues to the origin of mankind, a te...          Ridley Scott   \n",
       "3     Three girls are kidnapped by a man with a diag...    M. Night Shyamalan   \n",
       "4     In a city of humanoid animals, a hustling thea...  Christophe Lourdelet   \n",
       "5     A secret government agency recruits some of th...            David Ayer   \n",
       "...                                                 ...                   ...   \n",
       "996   A tight-knit team of rising investigators, alo...             Billy Ray   \n",
       "997   Three American college students studying abroa...              Eli Roth   \n",
       "998   Romantic sparks occur between two dance studen...            Jon M. Chu   \n",
       "999   A pair of friends embark on a mission to reuni...        Scot Armstrong   \n",
       "1000  A stuffy businessman finds himself trapped ins...      Barry Sonnenfeld   \n",
       "\n",
       "                                                 Actors  Year  \\\n",
       "Rank                                                            \n",
       "1     Chris Pratt, Vin Diesel, Bradley Cooper, Zoe S...  2014   \n",
       "2     Noomi Rapace, Logan Marshall-Green, Michael Fa...  2012   \n",
       "3     James McAvoy, Anya Taylor-Joy, Haley Lu Richar...  2016   \n",
       "4     Matthew McConaughey,Reese Witherspoon, Seth Ma...  2016   \n",
       "5     Will Smith, Jared Leto, Margot Robbie, Viola D...  2016   \n",
       "...                                                 ...   ...   \n",
       "996   Chiwetel Ejiofor, Nicole Kidman, Julia Roberts...  2015   \n",
       "997   Lauren German, Heather Matarazzo, Bijou Philli...  2007   \n",
       "998   Robert Hoffman, Briana Evigan, Cassie Ventura,...  2008   \n",
       "999   Adam Pally, T.J. Miller, Thomas Middleditch,Sh...  2014   \n",
       "1000  Kevin Spacey, Jennifer Garner, Robbie Amell,Ch...  2016   \n",
       "\n",
       "      Runtime (Minutes)  Rating   Votes  Revenue (Millions)  Metascore  \n",
       "Rank                                                                    \n",
       "1                   121     8.1  757074              333.13       76.0  \n",
       "2                   124     7.0  485820              126.46       65.0  \n",
       "3                   117     7.3  157606              138.12       62.0  \n",
       "4                   108     7.2   60545              270.32       59.0  \n",
       "5                   123     6.2  393727              325.02       40.0  \n",
       "...                 ...     ...     ...                 ...        ...  \n",
       "996                 111     6.2   27585                 NaN       45.0  \n",
       "997                  94     5.5   73152               17.54       46.0  \n",
       "998                  98     6.2   70699               58.01       50.0  \n",
       "999                  93     5.6    4881                 NaN       22.0  \n",
       "1000                 87     5.3   12435               19.64       11.0  \n",
       "\n",
       "[1000 rows x 11 columns]"
      ]
     },
     "execution_count": 58,
     "metadata": {},
     "output_type": "execute_result"
    }
   ],
   "source": [
    "data"
   ]
  },
  {
   "cell_type": "markdown",
   "metadata": {},
   "source": [
    "###  cheking null values are present ot not"
   ]
  },
  {
   "cell_type": "code",
   "execution_count": 59,
   "metadata": {
    "scrolled": true
   },
   "outputs": [
    {
     "data": {
      "text/html": [
       "<div>\n",
       "<style scoped>\n",
       "    .dataframe tbody tr th:only-of-type {\n",
       "        vertical-align: middle;\n",
       "    }\n",
       "\n",
       "    .dataframe tbody tr th {\n",
       "        vertical-align: top;\n",
       "    }\n",
       "\n",
       "    .dataframe thead th {\n",
       "        text-align: right;\n",
       "    }\n",
       "</style>\n",
       "<table border=\"1\" class=\"dataframe\">\n",
       "  <thead>\n",
       "    <tr style=\"text-align: right;\">\n",
       "      <th></th>\n",
       "      <th>Title</th>\n",
       "      <th>Genre</th>\n",
       "      <th>Description</th>\n",
       "      <th>Director</th>\n",
       "      <th>Actors</th>\n",
       "      <th>Year</th>\n",
       "      <th>Runtime (Minutes)</th>\n",
       "      <th>Rating</th>\n",
       "      <th>Votes</th>\n",
       "      <th>Revenue (Millions)</th>\n",
       "      <th>Metascore</th>\n",
       "    </tr>\n",
       "    <tr>\n",
       "      <th>Rank</th>\n",
       "      <th></th>\n",
       "      <th></th>\n",
       "      <th></th>\n",
       "      <th></th>\n",
       "      <th></th>\n",
       "      <th></th>\n",
       "      <th></th>\n",
       "      <th></th>\n",
       "      <th></th>\n",
       "      <th></th>\n",
       "      <th></th>\n",
       "    </tr>\n",
       "  </thead>\n",
       "  <tbody>\n",
       "    <tr>\n",
       "      <th>1</th>\n",
       "      <td>False</td>\n",
       "      <td>False</td>\n",
       "      <td>False</td>\n",
       "      <td>False</td>\n",
       "      <td>False</td>\n",
       "      <td>False</td>\n",
       "      <td>False</td>\n",
       "      <td>False</td>\n",
       "      <td>False</td>\n",
       "      <td>False</td>\n",
       "      <td>False</td>\n",
       "    </tr>\n",
       "    <tr>\n",
       "      <th>2</th>\n",
       "      <td>False</td>\n",
       "      <td>False</td>\n",
       "      <td>False</td>\n",
       "      <td>False</td>\n",
       "      <td>False</td>\n",
       "      <td>False</td>\n",
       "      <td>False</td>\n",
       "      <td>False</td>\n",
       "      <td>False</td>\n",
       "      <td>False</td>\n",
       "      <td>False</td>\n",
       "    </tr>\n",
       "    <tr>\n",
       "      <th>3</th>\n",
       "      <td>False</td>\n",
       "      <td>False</td>\n",
       "      <td>False</td>\n",
       "      <td>False</td>\n",
       "      <td>False</td>\n",
       "      <td>False</td>\n",
       "      <td>False</td>\n",
       "      <td>False</td>\n",
       "      <td>False</td>\n",
       "      <td>False</td>\n",
       "      <td>False</td>\n",
       "    </tr>\n",
       "    <tr>\n",
       "      <th>4</th>\n",
       "      <td>False</td>\n",
       "      <td>False</td>\n",
       "      <td>False</td>\n",
       "      <td>False</td>\n",
       "      <td>False</td>\n",
       "      <td>False</td>\n",
       "      <td>False</td>\n",
       "      <td>False</td>\n",
       "      <td>False</td>\n",
       "      <td>False</td>\n",
       "      <td>False</td>\n",
       "    </tr>\n",
       "    <tr>\n",
       "      <th>5</th>\n",
       "      <td>False</td>\n",
       "      <td>False</td>\n",
       "      <td>False</td>\n",
       "      <td>False</td>\n",
       "      <td>False</td>\n",
       "      <td>False</td>\n",
       "      <td>False</td>\n",
       "      <td>False</td>\n",
       "      <td>False</td>\n",
       "      <td>False</td>\n",
       "      <td>False</td>\n",
       "    </tr>\n",
       "    <tr>\n",
       "      <th>...</th>\n",
       "      <td>...</td>\n",
       "      <td>...</td>\n",
       "      <td>...</td>\n",
       "      <td>...</td>\n",
       "      <td>...</td>\n",
       "      <td>...</td>\n",
       "      <td>...</td>\n",
       "      <td>...</td>\n",
       "      <td>...</td>\n",
       "      <td>...</td>\n",
       "      <td>...</td>\n",
       "    </tr>\n",
       "    <tr>\n",
       "      <th>996</th>\n",
       "      <td>False</td>\n",
       "      <td>False</td>\n",
       "      <td>False</td>\n",
       "      <td>False</td>\n",
       "      <td>False</td>\n",
       "      <td>False</td>\n",
       "      <td>False</td>\n",
       "      <td>False</td>\n",
       "      <td>False</td>\n",
       "      <td>True</td>\n",
       "      <td>False</td>\n",
       "    </tr>\n",
       "    <tr>\n",
       "      <th>997</th>\n",
       "      <td>False</td>\n",
       "      <td>False</td>\n",
       "      <td>False</td>\n",
       "      <td>False</td>\n",
       "      <td>False</td>\n",
       "      <td>False</td>\n",
       "      <td>False</td>\n",
       "      <td>False</td>\n",
       "      <td>False</td>\n",
       "      <td>False</td>\n",
       "      <td>False</td>\n",
       "    </tr>\n",
       "    <tr>\n",
       "      <th>998</th>\n",
       "      <td>False</td>\n",
       "      <td>False</td>\n",
       "      <td>False</td>\n",
       "      <td>False</td>\n",
       "      <td>False</td>\n",
       "      <td>False</td>\n",
       "      <td>False</td>\n",
       "      <td>False</td>\n",
       "      <td>False</td>\n",
       "      <td>False</td>\n",
       "      <td>False</td>\n",
       "    </tr>\n",
       "    <tr>\n",
       "      <th>999</th>\n",
       "      <td>False</td>\n",
       "      <td>False</td>\n",
       "      <td>False</td>\n",
       "      <td>False</td>\n",
       "      <td>False</td>\n",
       "      <td>False</td>\n",
       "      <td>False</td>\n",
       "      <td>False</td>\n",
       "      <td>False</td>\n",
       "      <td>True</td>\n",
       "      <td>False</td>\n",
       "    </tr>\n",
       "    <tr>\n",
       "      <th>1000</th>\n",
       "      <td>False</td>\n",
       "      <td>False</td>\n",
       "      <td>False</td>\n",
       "      <td>False</td>\n",
       "      <td>False</td>\n",
       "      <td>False</td>\n",
       "      <td>False</td>\n",
       "      <td>False</td>\n",
       "      <td>False</td>\n",
       "      <td>False</td>\n",
       "      <td>False</td>\n",
       "    </tr>\n",
       "  </tbody>\n",
       "</table>\n",
       "<p>1000 rows × 11 columns</p>\n",
       "</div>"
      ],
      "text/plain": [
       "      Title  Genre  Description  Director  Actors   Year  Runtime (Minutes)  \\\n",
       "Rank                                                                          \n",
       "1     False  False        False     False   False  False              False   \n",
       "2     False  False        False     False   False  False              False   \n",
       "3     False  False        False     False   False  False              False   \n",
       "4     False  False        False     False   False  False              False   \n",
       "5     False  False        False     False   False  False              False   \n",
       "...     ...    ...          ...       ...     ...    ...                ...   \n",
       "996   False  False        False     False   False  False              False   \n",
       "997   False  False        False     False   False  False              False   \n",
       "998   False  False        False     False   False  False              False   \n",
       "999   False  False        False     False   False  False              False   \n",
       "1000  False  False        False     False   False  False              False   \n",
       "\n",
       "      Rating  Votes  Revenue (Millions)  Metascore  \n",
       "Rank                                                \n",
       "1      False  False               False      False  \n",
       "2      False  False               False      False  \n",
       "3      False  False               False      False  \n",
       "4      False  False               False      False  \n",
       "5      False  False               False      False  \n",
       "...      ...    ...                 ...        ...  \n",
       "996    False  False                True      False  \n",
       "997    False  False               False      False  \n",
       "998    False  False               False      False  \n",
       "999    False  False                True      False  \n",
       "1000   False  False               False      False  \n",
       "\n",
       "[1000 rows x 11 columns]"
      ]
     },
     "execution_count": 59,
     "metadata": {},
     "output_type": "execute_result"
    }
   ],
   "source": [
    "data.isnull()"
   ]
  },
  {
   "cell_type": "markdown",
   "metadata": {},
   "source": [
    "### checking how many null places are using sum() function"
   ]
  },
  {
   "cell_type": "code",
   "execution_count": 60,
   "metadata": {},
   "outputs": [
    {
     "data": {
      "text/plain": [
       "Title                   0\n",
       "Genre                   0\n",
       "Description             0\n",
       "Director                0\n",
       "Actors                  0\n",
       "Year                    0\n",
       "Runtime (Minutes)       0\n",
       "Rating                  0\n",
       "Votes                   0\n",
       "Revenue (Millions)    128\n",
       "Metascore              64\n",
       "dtype: int64"
      ]
     },
     "execution_count": 60,
     "metadata": {},
     "output_type": "execute_result"
    }
   ],
   "source": [
    "data.isnull().sum()"
   ]
  },
  {
   "cell_type": "markdown",
   "metadata": {},
   "source": [
    "### We can check it using '.isna()'"
   ]
  },
  {
   "cell_type": "code",
   "execution_count": 61,
   "metadata": {},
   "outputs": [
    {
     "data": {
      "text/plain": [
       "Title                   0\n",
       "Genre                   0\n",
       "Description             0\n",
       "Director                0\n",
       "Actors                  0\n",
       "Year                    0\n",
       "Runtime (Minutes)       0\n",
       "Rating                  0\n",
       "Votes                   0\n",
       "Revenue (Millions)    128\n",
       "Metascore              64\n",
       "dtype: int64"
      ]
     },
     "execution_count": 61,
     "metadata": {},
     "output_type": "execute_result"
    }
   ],
   "source": [
    "data.isna().sum()"
   ]
  },
  {
   "cell_type": "markdown",
   "metadata": {},
   "source": [
    " ### To handle missing data use \" .dropna() \" function"
   ]
  },
  {
   "cell_type": "code",
   "execution_count": 62,
   "metadata": {},
   "outputs": [],
   "source": [
    "data1 = data.dropna()"
   ]
  },
  {
   "cell_type": "code",
   "execution_count": 63,
   "metadata": {},
   "outputs": [
    {
     "data": {
      "text/plain": [
       "(838, 11)"
      ]
     },
     "execution_count": 63,
     "metadata": {},
     "output_type": "execute_result"
    }
   ],
   "source": [
    "data1.shape"
   ]
  },
  {
   "cell_type": "markdown",
   "metadata": {},
   "source": [
    "### To fill null value with '0' we use \".fillna()\" function"
   ]
  },
  {
   "cell_type": "code",
   "execution_count": 64,
   "metadata": {},
   "outputs": [],
   "source": [
    "data2 = data.fillna(0)"
   ]
  },
  {
   "cell_type": "markdown",
   "metadata": {},
   "source": [
    "### Now if we check is there any value"
   ]
  },
  {
   "cell_type": "code",
   "execution_count": 65,
   "metadata": {},
   "outputs": [
    {
     "data": {
      "text/plain": [
       "Title                 0\n",
       "Genre                 0\n",
       "Description           0\n",
       "Director              0\n",
       "Actors                0\n",
       "Year                  0\n",
       "Runtime (Minutes)     0\n",
       "Rating                0\n",
       "Votes                 0\n",
       "Revenue (Millions)    0\n",
       "Metascore             0\n",
       "dtype: int64"
      ]
     },
     "execution_count": 65,
     "metadata": {},
     "output_type": "execute_result"
    }
   ],
   "source": [
    "data2.isnull().sum()"
   ]
  },
  {
   "cell_type": "markdown",
   "metadata": {},
   "source": [
    "### It is not a good way to remove null value so we have there are some other way to remove null value without affect overall data"
   ]
  },
  {
   "cell_type": "markdown",
   "metadata": {},
   "source": [
    "## imputation method"
   ]
  },
  {
   "cell_type": "code",
   "execution_count": 66,
   "metadata": {},
   "outputs": [
    {
     "data": {
      "text/plain": [
       "Title                   0\n",
       "Genre                   0\n",
       "Description             0\n",
       "Director                0\n",
       "Actors                  0\n",
       "Year                    0\n",
       "Runtime (Minutes)       0\n",
       "Rating                  0\n",
       "Votes                   0\n",
       "Revenue (Millions)    128\n",
       "Metascore              64\n",
       "dtype: int64"
      ]
     },
     "execution_count": 66,
     "metadata": {},
     "output_type": "execute_result"
    }
   ],
   "source": [
    "data.isnull().sum()"
   ]
  },
  {
   "cell_type": "code",
   "execution_count": 67,
   "metadata": {},
   "outputs": [
    {
     "data": {
      "text/plain": [
       "Rank\n",
       "1       333.13\n",
       "2       126.46\n",
       "3       138.12\n",
       "4       270.32\n",
       "5       325.02\n",
       "         ...  \n",
       "996        NaN\n",
       "997      17.54\n",
       "998      58.01\n",
       "999        NaN\n",
       "1000     19.64\n",
       "Name: Revenue (Millions), Length: 1000, dtype: float64"
      ]
     },
     "execution_count": 67,
     "metadata": {},
     "output_type": "execute_result"
    }
   ],
   "source": [
    "md = data['Revenue (Millions)']\n",
    "md\n"
   ]
  },
  {
   "cell_type": "markdown",
   "metadata": {},
   "source": [
    "### we take mean"
   ]
  },
  {
   "cell_type": "code",
   "execution_count": 68,
   "metadata": {},
   "outputs": [
    {
     "data": {
      "text/plain": [
       "82.95637614678898"
      ]
     },
     "execution_count": 68,
     "metadata": {},
     "output_type": "execute_result"
    }
   ],
   "source": [
    "l = md.mean()\n",
    "l"
   ]
  },
  {
   "cell_type": "markdown",
   "metadata": {},
   "source": [
    "### and than fill null values with there mean value"
   ]
  },
  {
   "cell_type": "code",
   "execution_count": 69,
   "metadata": {
    "scrolled": true
   },
   "outputs": [
    {
     "data": {
      "text/plain": [
       "Rank\n",
       "1       333.130000\n",
       "2       126.460000\n",
       "3       138.120000\n",
       "4       270.320000\n",
       "5       325.020000\n",
       "           ...    \n",
       "996      82.956376\n",
       "997      17.540000\n",
       "998      58.010000\n",
       "999      82.956376\n",
       "1000     19.640000\n",
       "Name: Revenue (Millions), Length: 1000, dtype: float64"
      ]
     },
     "execution_count": 69,
     "metadata": {},
     "output_type": "execute_result"
    }
   ],
   "source": [
    "md.fillna(l)"
   ]
  },
  {
   "cell_type": "code",
   "execution_count": 70,
   "metadata": {},
   "outputs": [
    {
     "data": {
      "text/plain": [
       "128"
      ]
     },
     "execution_count": 70,
     "metadata": {},
     "output_type": "execute_result"
    }
   ],
   "source": [
    "md.isnull().sum()"
   ]
  },
  {
   "cell_type": "markdown",
   "metadata": {},
   "source": [
    "### same procedure with Metascore values"
   ]
  },
  {
   "cell_type": "code",
   "execution_count": 71,
   "metadata": {},
   "outputs": [
    {
     "data": {
      "text/plain": [
       "Rank\n",
       "1       76.0\n",
       "2       65.0\n",
       "3       62.0\n",
       "4       59.0\n",
       "5       40.0\n",
       "        ... \n",
       "996     45.0\n",
       "997     46.0\n",
       "998     50.0\n",
       "999     22.0\n",
       "1000    11.0\n",
       "Name: Metascore, Length: 1000, dtype: float64"
      ]
     },
     "execution_count": 71,
     "metadata": {},
     "output_type": "execute_result"
    }
   ],
   "source": [
    "meta = data['Metascore']\n",
    "meta"
   ]
  },
  {
   "cell_type": "code",
   "execution_count": 72,
   "metadata": {},
   "outputs": [
    {
     "data": {
      "text/plain": [
       "58.98504273504273"
      ]
     },
     "execution_count": 72,
     "metadata": {},
     "output_type": "execute_result"
    }
   ],
   "source": [
    "meta_mean = meta.mean()\n",
    "meta_mean"
   ]
  },
  {
   "cell_type": "code",
   "execution_count": 73,
   "metadata": {},
   "outputs": [],
   "source": [
    "meta.fillna(meta_mean,inplace=True)\n"
   ]
  },
  {
   "cell_type": "code",
   "execution_count": 74,
   "metadata": {},
   "outputs": [
    {
     "data": {
      "text/plain": [
       "0"
      ]
     },
     "execution_count": 74,
     "metadata": {},
     "output_type": "execute_result"
    }
   ],
   "source": [
    "data['Metascore'].isnull().sum()"
   ]
  },
  {
   "cell_type": "markdown",
   "metadata": {},
   "source": [
    "### describe() function tells only about Numerical values like(float or int data type)"
   ]
  },
  {
   "cell_type": "code",
   "execution_count": 75,
   "metadata": {},
   "outputs": [
    {
     "data": {
      "text/html": [
       "<div>\n",
       "<style scoped>\n",
       "    .dataframe tbody tr th:only-of-type {\n",
       "        vertical-align: middle;\n",
       "    }\n",
       "\n",
       "    .dataframe tbody tr th {\n",
       "        vertical-align: top;\n",
       "    }\n",
       "\n",
       "    .dataframe thead th {\n",
       "        text-align: right;\n",
       "    }\n",
       "</style>\n",
       "<table border=\"1\" class=\"dataframe\">\n",
       "  <thead>\n",
       "    <tr style=\"text-align: right;\">\n",
       "      <th></th>\n",
       "      <th>Year</th>\n",
       "      <th>Runtime (Minutes)</th>\n",
       "      <th>Rating</th>\n",
       "      <th>Votes</th>\n",
       "      <th>Revenue (Millions)</th>\n",
       "      <th>Metascore</th>\n",
       "    </tr>\n",
       "  </thead>\n",
       "  <tbody>\n",
       "    <tr>\n",
       "      <th>count</th>\n",
       "      <td>1000.000000</td>\n",
       "      <td>1000.000000</td>\n",
       "      <td>1000.000000</td>\n",
       "      <td>1.000000e+03</td>\n",
       "      <td>872.000000</td>\n",
       "      <td>1000.000000</td>\n",
       "    </tr>\n",
       "    <tr>\n",
       "      <th>mean</th>\n",
       "      <td>2012.783000</td>\n",
       "      <td>113.172000</td>\n",
       "      <td>6.723200</td>\n",
       "      <td>1.698083e+05</td>\n",
       "      <td>82.956376</td>\n",
       "      <td>58.985043</td>\n",
       "    </tr>\n",
       "    <tr>\n",
       "      <th>std</th>\n",
       "      <td>3.205962</td>\n",
       "      <td>18.810908</td>\n",
       "      <td>0.945429</td>\n",
       "      <td>1.887626e+05</td>\n",
       "      <td>103.253540</td>\n",
       "      <td>16.634858</td>\n",
       "    </tr>\n",
       "    <tr>\n",
       "      <th>min</th>\n",
       "      <td>2006.000000</td>\n",
       "      <td>66.000000</td>\n",
       "      <td>1.900000</td>\n",
       "      <td>6.100000e+01</td>\n",
       "      <td>0.000000</td>\n",
       "      <td>11.000000</td>\n",
       "    </tr>\n",
       "    <tr>\n",
       "      <th>25%</th>\n",
       "      <td>2010.000000</td>\n",
       "      <td>100.000000</td>\n",
       "      <td>6.200000</td>\n",
       "      <td>3.630900e+04</td>\n",
       "      <td>13.270000</td>\n",
       "      <td>47.750000</td>\n",
       "    </tr>\n",
       "    <tr>\n",
       "      <th>50%</th>\n",
       "      <td>2014.000000</td>\n",
       "      <td>111.000000</td>\n",
       "      <td>6.800000</td>\n",
       "      <td>1.107990e+05</td>\n",
       "      <td>47.985000</td>\n",
       "      <td>58.985043</td>\n",
       "    </tr>\n",
       "    <tr>\n",
       "      <th>75%</th>\n",
       "      <td>2016.000000</td>\n",
       "      <td>123.000000</td>\n",
       "      <td>7.400000</td>\n",
       "      <td>2.399098e+05</td>\n",
       "      <td>113.715000</td>\n",
       "      <td>71.000000</td>\n",
       "    </tr>\n",
       "    <tr>\n",
       "      <th>max</th>\n",
       "      <td>2016.000000</td>\n",
       "      <td>191.000000</td>\n",
       "      <td>9.000000</td>\n",
       "      <td>1.791916e+06</td>\n",
       "      <td>936.630000</td>\n",
       "      <td>100.000000</td>\n",
       "    </tr>\n",
       "  </tbody>\n",
       "</table>\n",
       "</div>"
      ],
      "text/plain": [
       "              Year  Runtime (Minutes)       Rating         Votes  \\\n",
       "count  1000.000000        1000.000000  1000.000000  1.000000e+03   \n",
       "mean   2012.783000         113.172000     6.723200  1.698083e+05   \n",
       "std       3.205962          18.810908     0.945429  1.887626e+05   \n",
       "min    2006.000000          66.000000     1.900000  6.100000e+01   \n",
       "25%    2010.000000         100.000000     6.200000  3.630900e+04   \n",
       "50%    2014.000000         111.000000     6.800000  1.107990e+05   \n",
       "75%    2016.000000         123.000000     7.400000  2.399098e+05   \n",
       "max    2016.000000         191.000000     9.000000  1.791916e+06   \n",
       "\n",
       "       Revenue (Millions)    Metascore  \n",
       "count          872.000000  1000.000000  \n",
       "mean            82.956376    58.985043  \n",
       "std            103.253540    16.634858  \n",
       "min              0.000000    11.000000  \n",
       "25%             13.270000    47.750000  \n",
       "50%             47.985000    58.985043  \n",
       "75%            113.715000    71.000000  \n",
       "max            936.630000   100.000000  "
      ]
     },
     "execution_count": 75,
     "metadata": {},
     "output_type": "execute_result"
    }
   ],
   "source": [
    "data.describe()"
   ]
  },
  {
   "cell_type": "markdown",
   "metadata": {},
   "source": [
    "### and info() tells about all data type"
   ]
  },
  {
   "cell_type": "code",
   "execution_count": 76,
   "metadata": {
    "scrolled": true
   },
   "outputs": [
    {
     "name": "stdout",
     "output_type": "stream",
     "text": [
      "<class 'pandas.core.frame.DataFrame'>\n",
      "Int64Index: 1000 entries, 1 to 1000\n",
      "Data columns (total 11 columns):\n",
      " #   Column              Non-Null Count  Dtype  \n",
      "---  ------              --------------  -----  \n",
      " 0   Title               1000 non-null   object \n",
      " 1   Genre               1000 non-null   object \n",
      " 2   Description         1000 non-null   object \n",
      " 3   Director            1000 non-null   object \n",
      " 4   Actors              1000 non-null   object \n",
      " 5   Year                1000 non-null   int64  \n",
      " 6   Runtime (Minutes)   1000 non-null   int64  \n",
      " 7   Rating              1000 non-null   float64\n",
      " 8   Votes               1000 non-null   int64  \n",
      " 9   Revenue (Millions)  872 non-null    float64\n",
      " 10  Metascore           1000 non-null   float64\n",
      "dtypes: float64(3), int64(3), object(5)\n",
      "memory usage: 74.2+ KB\n"
     ]
    }
   ],
   "source": [
    "data.info()"
   ]
  },
  {
   "cell_type": "code",
   "execution_count": 77,
   "metadata": {},
   "outputs": [
    {
     "data": {
      "text/plain": [
       "count                        1000\n",
       "unique                        207\n",
       "top       Action,Adventure,Sci-Fi\n",
       "freq                           50\n",
       "Name: Genre, dtype: object"
      ]
     },
     "execution_count": 77,
     "metadata": {},
     "output_type": "execute_result"
    }
   ],
   "source": [
    "data['Genre'].describe()"
   ]
  },
  {
   "cell_type": "markdown",
   "metadata": {},
   "source": [
    "## How many different variables are there to find that"
   ]
  },
  {
   "cell_type": "code",
   "execution_count": 78,
   "metadata": {},
   "outputs": [
    {
     "data": {
      "text/plain": [
       "Action,Adventure,Sci-Fi      50\n",
       "Drama                        48\n",
       "Comedy,Drama,Romance         35\n",
       "Comedy                       32\n",
       "Drama,Romance                31\n",
       "                             ..\n",
       "Adventure,Biography,Crime     1\n",
       "Action,Fantasy,War            1\n",
       "Comedy,Romance,Western        1\n",
       "Action,Crime,Sport            1\n",
       "Action,Horror,Romance         1\n",
       "Name: Genre, Length: 207, dtype: int64"
      ]
     },
     "execution_count": 78,
     "metadata": {},
     "output_type": "execute_result"
    }
   ],
   "source": [
    "data['Genre'].value_counts()"
   ]
  },
  {
   "cell_type": "markdown",
   "metadata": {},
   "source": [
    "## Unique values"
   ]
  },
  {
   "cell_type": "code",
   "execution_count": 79,
   "metadata": {},
   "outputs": [
    {
     "data": {
      "text/plain": [
       "array(['Action,Adventure,Sci-Fi', 'Adventure,Mystery,Sci-Fi',\n",
       "       'Horror,Thriller', 'Animation,Comedy,Family',\n",
       "       'Action,Adventure,Fantasy', 'Comedy,Drama,Music', 'Comedy',\n",
       "       'Action,Adventure,Biography', 'Adventure,Drama,Romance',\n",
       "       'Adventure,Family,Fantasy', 'Biography,Drama,History',\n",
       "       'Animation,Adventure,Comedy', 'Action,Comedy,Drama',\n",
       "       'Action,Thriller', 'Biography,Drama', 'Drama,Mystery,Sci-Fi',\n",
       "       'Adventure,Drama,Thriller', 'Drama', 'Crime,Drama,Horror',\n",
       "       'Action,Adventure,Drama', 'Drama,Thriller',\n",
       "       'Action,Adventure,Comedy', 'Action,Horror,Sci-Fi',\n",
       "       'Adventure,Drama,Sci-Fi', 'Action,Adventure,Western',\n",
       "       'Comedy,Drama', 'Horror', 'Adventure,Drama,Fantasy',\n",
       "       'Action,Crime,Thriller', 'Action,Crime,Drama',\n",
       "       'Adventure,Drama,History', 'Crime,Horror,Thriller',\n",
       "       'Drama,Romance', 'Comedy,Drama,Romance', 'Horror,Mystery,Thriller',\n",
       "       'Crime,Drama,Mystery', 'Drama,Romance,Thriller',\n",
       "       'Drama,History,Thriller', 'Action,Drama,Thriller', 'Drama,History',\n",
       "       'Action,Drama,Romance', 'Drama,Fantasy', 'Action,Sci-Fi',\n",
       "       'Adventure,Drama,War', 'Action,Comedy,Fantasy',\n",
       "       'Biography,Comedy,Crime', 'Crime,Drama', 'Comedy,Crime,Drama',\n",
       "       'Action,Comedy,Crime', 'Animation,Drama,Fantasy',\n",
       "       'Horror,Mystery,Sci-Fi', 'Drama,Mystery,Thriller',\n",
       "       'Crime,Drama,Thriller', 'Biography,Crime,Drama',\n",
       "       'Crime,Mystery,Thriller', 'Action,Horror,Thriller',\n",
       "       'Romance,Sci-Fi', 'Action,Fantasy,War', 'Action,Biography,Drama',\n",
       "       'Drama,Horror,Mystery', 'Adventure,Drama,Family',\n",
       "       'Adventure,Comedy,Romance', 'Action', 'Adventure,Crime,Mystery',\n",
       "       'Comedy,Family,Musical', 'Adventure,Comedy,Drama',\n",
       "       'Drama,Horror,Thriller', 'Drama,Music', 'Mystery,Thriller',\n",
       "       'Mystery,Thriller,Western', 'Comedy,Family',\n",
       "       'Biography,Comedy,Drama', 'Drama,Western', 'Drama,Mystery,Romance',\n",
       "       'Action,Drama,Mystery', 'Action,Adventure,Crime',\n",
       "       'Adventure,Sci-Fi,Thriller', 'Action,Comedy,Mystery',\n",
       "       'Thriller,War', 'Action,Adventure,Thriller',\n",
       "       'Drama,Fantasy,Romance', 'Action,Drama,History',\n",
       "       'Animation,Adventure,Family', 'Adventure,Horror',\n",
       "       'Drama,Romance,Sci-Fi', 'Action,Adventure,Family', 'Action,Comedy',\n",
       "       'Comedy,Romance', 'Horror,Mystery', 'Drama,Family,Fantasy',\n",
       "       'Sci-Fi', 'Drama,War', 'Drama,Fantasy,Horror',\n",
       "       'Crime,Drama,History', 'Horror,Sci-Fi,Thriller',\n",
       "       'Action,Drama,Sport', 'Adventure,Biography,Drama',\n",
       "       'Biography,Drama,Thriller', 'Action,Adventure,Mystery',\n",
       "       'Drama,Horror', 'Comedy,Crime', 'Drama,Fantasy,War',\n",
       "       'Action,Adventure,Romance', 'Action,Drama,War',\n",
       "       'Drama,Musical,Romance', 'Drama,Sci-Fi,Thriller',\n",
       "       'Action,Drama,Sci-Fi', 'Drama,Sci-Fi', 'Adventure,Fantasy',\n",
       "       'Thriller', 'Biography,Drama,Romance', 'Action,Adventure',\n",
       "       'Action,Fantasy', 'Action,Drama,Horror', 'Comedy,Music,Romance',\n",
       "       'Biography,Drama,Sport', 'Action,Horror', 'Comedy,Horror,Thriller',\n",
       "       'Crime,Drama,Music', 'Action,Sci-Fi,Thriller',\n",
       "       'Drama,Horror,Sci-Fi', 'Drama,Sport', 'Comedy,Horror',\n",
       "       'Comedy,Fantasy,Romance', 'Comedy,Fantasy', 'Comedy,Drama,Fantasy',\n",
       "       'Adventure,Comedy,Horror', 'Comedy,Mystery',\n",
       "       'Action,Mystery,Sci-Fi', 'Action,Crime,Fantasy',\n",
       "       'Comedy,Fantasy,Horror', 'Animation,Action,Adventure',\n",
       "       'Action,Comedy,Family', 'Comedy,Sci-Fi', 'Action,Biography,Crime',\n",
       "       'Adventure,Comedy', 'Comedy,Music', 'Comedy,Drama,Horror',\n",
       "       'Action,Horror,Romance', 'Action,Drama,Fantasy',\n",
       "       'Action,Mystery,Thriller', 'Action,Adventure,Horror',\n",
       "       'Animation,Family,Fantasy', 'Adventure,Horror,Mystery',\n",
       "       'Action,Horror,Mystery', 'Adventure,Comedy,Family',\n",
       "       'Action,Crime,Mystery', 'Comedy,Drama,Family',\n",
       "       'Action,Crime,Sport', 'Mystery,Sci-Fi,Thriller', 'Sci-Fi,Thriller',\n",
       "       'Adventure,Drama,Horror', 'Biography,History,Thriller',\n",
       "       'Adventure,Comedy,Sci-Fi', 'Fantasy,Horror',\n",
       "       'Action,Fantasy,Thriller', 'Comedy,Romance,Sport',\n",
       "       'Animation,Action,Comedy', 'Drama,Fantasy,Thriller',\n",
       "       'Action,Comedy,Romance', 'Action,Fantasy,Horror',\n",
       "       'Mystery,Romance,Sci-Fi', 'Comedy,Drama,Thriller',\n",
       "       'Comedy,Western', 'Drama,History,War', 'Fantasy,Horror,Thriller',\n",
       "       'Drama,Horror,Musical', 'Drama,Family', 'Romance,Sci-Fi,Thriller',\n",
       "       'Animation,Fantasy', 'Drama,Mystery,War', 'Action,Drama,Family',\n",
       "       'Adventure,Drama,Western', 'Drama,Music,Romance',\n",
       "       'Comedy,Romance,Western', 'Adventure,Drama', 'Drama,Thriller,War',\n",
       "       'Drama,Fantasy,Mystery', 'Comedy,Crime,Thriller',\n",
       "       'Animation,Comedy,Drama', 'Action,Comedy,Sci-Fi',\n",
       "       'Drama,Romance,War', 'Adventure,Fantasy,Mystery',\n",
       "       'Mystery,Romance,Thriller', 'Biography,Drama,Mystery',\n",
       "       'Animation,Drama,Romance', 'Comedy,Horror,Romance',\n",
       "       'Action,Thriller,War', 'Action,Comedy,Horror',\n",
       "       'Action,Crime,Sci-Fi', 'Crime,Thriller', 'Comedy,Horror,Sci-Fi',\n",
       "       'Crime,Drama,Fantasy', 'Drama,Fantasy,Music',\n",
       "       'Action,Comedy,Sport', 'Fantasy,Mystery,Thriller', 'Adventure',\n",
       "       'Adventure,Biography', 'Adventure,Biography,Crime',\n",
       "       'Comedy,Drama,Musical', 'Comedy,Family,Romance',\n",
       "       'Biography,Drama,Family', 'Drama,Fantasy,Musical',\n",
       "       'Adventure,Family', 'Adventure,Comedy,Fantasy',\n",
       "       'Drama,Family,Music', 'Comedy,Family,Fantasy'], dtype=object)"
      ]
     },
     "execution_count": 79,
     "metadata": {},
     "output_type": "execute_result"
    }
   ],
   "source": [
    "data['Genre'].unique()"
   ]
  },
  {
   "cell_type": "code",
   "execution_count": 80,
   "metadata": {},
   "outputs": [
    {
     "data": {
      "text/plain": [
       "207"
      ]
     },
     "execution_count": 80,
     "metadata": {},
     "output_type": "execute_result"
    }
   ],
   "source": [
    "len(data['Genre'].unique())"
   ]
  },
  {
   "cell_type": "markdown",
   "metadata": {},
   "source": [
    "## What is the correlation bw imdb data set columns?\n"
   ]
  },
  {
   "cell_type": "markdown",
   "metadata": {},
   "source": [
    "# Corr method"
   ]
  },
  {
   "cell_type": "code",
   "execution_count": 81,
   "metadata": {},
   "outputs": [
    {
     "data": {
      "text/html": [
       "<div>\n",
       "<style scoped>\n",
       "    .dataframe tbody tr th:only-of-type {\n",
       "        vertical-align: middle;\n",
       "    }\n",
       "\n",
       "    .dataframe tbody tr th {\n",
       "        vertical-align: top;\n",
       "    }\n",
       "\n",
       "    .dataframe thead th {\n",
       "        text-align: right;\n",
       "    }\n",
       "</style>\n",
       "<table border=\"1\" class=\"dataframe\">\n",
       "  <thead>\n",
       "    <tr style=\"text-align: right;\">\n",
       "      <th></th>\n",
       "      <th>Year</th>\n",
       "      <th>Runtime (Minutes)</th>\n",
       "      <th>Rating</th>\n",
       "      <th>Votes</th>\n",
       "      <th>Revenue (Millions)</th>\n",
       "      <th>Metascore</th>\n",
       "    </tr>\n",
       "  </thead>\n",
       "  <tbody>\n",
       "    <tr>\n",
       "      <th>Year</th>\n",
       "      <td>1.000000</td>\n",
       "      <td>-0.164900</td>\n",
       "      <td>-0.211219</td>\n",
       "      <td>-0.411904</td>\n",
       "      <td>-0.126790</td>\n",
       "      <td>-0.076077</td>\n",
       "    </tr>\n",
       "    <tr>\n",
       "      <th>Runtime (Minutes)</th>\n",
       "      <td>-0.164900</td>\n",
       "      <td>1.000000</td>\n",
       "      <td>0.392214</td>\n",
       "      <td>0.407062</td>\n",
       "      <td>0.267953</td>\n",
       "      <td>0.202239</td>\n",
       "    </tr>\n",
       "    <tr>\n",
       "      <th>Rating</th>\n",
       "      <td>-0.211219</td>\n",
       "      <td>0.392214</td>\n",
       "      <td>1.000000</td>\n",
       "      <td>0.511537</td>\n",
       "      <td>0.217654</td>\n",
       "      <td>0.604723</td>\n",
       "    </tr>\n",
       "    <tr>\n",
       "      <th>Votes</th>\n",
       "      <td>-0.411904</td>\n",
       "      <td>0.407062</td>\n",
       "      <td>0.511537</td>\n",
       "      <td>1.000000</td>\n",
       "      <td>0.639661</td>\n",
       "      <td>0.318116</td>\n",
       "    </tr>\n",
       "    <tr>\n",
       "      <th>Revenue (Millions)</th>\n",
       "      <td>-0.126790</td>\n",
       "      <td>0.267953</td>\n",
       "      <td>0.217654</td>\n",
       "      <td>0.639661</td>\n",
       "      <td>1.000000</td>\n",
       "      <td>0.141831</td>\n",
       "    </tr>\n",
       "    <tr>\n",
       "      <th>Metascore</th>\n",
       "      <td>-0.076077</td>\n",
       "      <td>0.202239</td>\n",
       "      <td>0.604723</td>\n",
       "      <td>0.318116</td>\n",
       "      <td>0.141831</td>\n",
       "      <td>1.000000</td>\n",
       "    </tr>\n",
       "  </tbody>\n",
       "</table>\n",
       "</div>"
      ],
      "text/plain": [
       "                        Year  Runtime (Minutes)    Rating     Votes  \\\n",
       "Year                1.000000          -0.164900 -0.211219 -0.411904   \n",
       "Runtime (Minutes)  -0.164900           1.000000  0.392214  0.407062   \n",
       "Rating             -0.211219           0.392214  1.000000  0.511537   \n",
       "Votes              -0.411904           0.407062  0.511537  1.000000   \n",
       "Revenue (Millions) -0.126790           0.267953  0.217654  0.639661   \n",
       "Metascore          -0.076077           0.202239  0.604723  0.318116   \n",
       "\n",
       "                    Revenue (Millions)  Metascore  \n",
       "Year                         -0.126790  -0.076077  \n",
       "Runtime (Minutes)             0.267953   0.202239  \n",
       "Rating                        0.217654   0.604723  \n",
       "Votes                         0.639661   0.318116  \n",
       "Revenue (Millions)            1.000000   0.141831  \n",
       "Metascore                     0.141831   1.000000  "
      ]
     },
     "execution_count": 81,
     "metadata": {},
     "output_type": "execute_result"
    }
   ],
   "source": [
    "corr = data.corr()\n",
    "corr"
   ]
  },
  {
   "cell_type": "markdown",
   "metadata": {},
   "source": [
    "# Visualization"
   ]
  },
  {
   "cell_type": "code",
   "execution_count": 82,
   "metadata": {},
   "outputs": [],
   "source": [
    "import seaborn as sns"
   ]
  },
  {
   "cell_type": "code",
   "execution_count": 83,
   "metadata": {},
   "outputs": [
    {
     "data": {
      "text/plain": [
       "<matplotlib.axes._subplots.AxesSubplot at 0x1b7ed2b0>"
      ]
     },
     "execution_count": 83,
     "metadata": {},
     "output_type": "execute_result"
    },
    {
     "data": {
      "image/png": "[encoded data removed]",
      "text/plain": [
       "<Figure size 432x288 with 2 Axes>"
      ]
     },
     "metadata": {
      "needs_background": "light"
     },
     "output_type": "display_data"
    }
   ],
   "source": [
    "sns.heatmap(corr)"
   ]
  },
  {
   "cell_type": "markdown",
   "metadata": {},
   "source": [
    "### Graph tells negative correlation(black) between votes and year(past ten year movies have less votes rather than current year movies)"
   ]
  },
  {
   "cell_type": "code",
   "execution_count": 84,
   "metadata": {},
   "outputs": [],
   "source": [
    "import matplotlib.pyplot as plt"
   ]
  },
  {
   "cell_type": "code",
   "execution_count": 85,
   "metadata": {},
   "outputs": [
    {
     "data": {
      "text/plain": [
       "<matplotlib.axes._subplots.AxesSubplot at 0x1c8aaf70>"
      ]
     },
     "execution_count": 85,
     "metadata": {},
     "output_type": "execute_result"
    },
    {
     "data": {
      "image/png": "[encoded data removed]",
      "text/plain": [
       "<Figure size 432x288 with 1 Axes>"
      ]
     },
     "metadata": {
      "needs_background": "light"
     },
     "output_type": "display_data"
    }
   ],
   "source": [
    "data.plot(kind='scatter',x='Rating',y='Revenue (Millions)')"
   ]
  },
  {
   "cell_type": "code",
   "execution_count": 86,
   "metadata": {},
   "outputs": [
    {
     "data": {
      "text/plain": [
       "<matplotlib.axes._subplots.AxesSubplot at 0x1c9c89e8>"
      ]
     },
     "execution_count": 86,
     "metadata": {},
     "output_type": "execute_result"
    },
    {
     "data": {
      "image/png": "[encoded data removed]",
      "text/plain": [
       "<Figure size 432x288 with 1 Axes>"
      ]
     },
     "metadata": {
      "needs_background": "light"
     },
     "output_type": "display_data"
    }
   ],
   "source": [
    "data['Rating'].plot(kind='hist')"
   ]
  },
  {
   "cell_type": "markdown",
   "metadata": {},
   "source": [
    "### you can compare above hist graph to ValueCounts calculated downside ↓"
   ]
  },
  {
   "cell_type": "code",
   "execution_count": 87,
   "metadata": {
    "scrolled": true
   },
   "outputs": [
    {
     "data": {
      "text/plain": [
       "7.1    52\n",
       "6.7    48\n",
       "7.0    46\n",
       "6.3    44\n",
       "6.6    42\n",
       "7.2    42\n",
       "7.3    42\n",
       "6.5    40\n",
       "7.8    40\n",
       "6.2    37\n",
       "6.8    37\n",
       "7.5    35\n",
       "6.4    35\n",
       "7.4    33\n",
       "6.9    31\n",
       "6.1    31\n",
       "7.6    27\n",
       "7.7    27\n",
       "5.8    26\n",
       "6.0    26\n",
       "8.1    26\n",
       "7.9    23\n",
       "5.7    21\n",
       "8.0    19\n",
       "5.9    19\n",
       "5.6    17\n",
       "5.5    14\n",
       "5.3    12\n",
       "5.4    12\n",
       "5.2    11\n",
       "8.2    10\n",
       "4.9     7\n",
       "8.3     7\n",
       "4.7     6\n",
       "8.5     6\n",
       "4.6     5\n",
       "5.1     5\n",
       "5.0     4\n",
       "4.8     4\n",
       "4.3     4\n",
       "8.4     4\n",
       "3.9     3\n",
       "8.6     3\n",
       "8.8     2\n",
       "2.7     2\n",
       "4.2     2\n",
       "3.5     2\n",
       "3.7     2\n",
       "9.0     1\n",
       "3.2     1\n",
       "4.0     1\n",
       "4.5     1\n",
       "4.4     1\n",
       "4.1     1\n",
       "1.9     1\n",
       "Name: Rating, dtype: int64"
      ]
     },
     "execution_count": 87,
     "metadata": {},
     "output_type": "execute_result"
    }
   ],
   "source": [
    "data['Rating'].value_counts()"
   ]
  },
  {
   "cell_type": "code",
   "execution_count": 88,
   "metadata": {
    "scrolled": true
   },
   "outputs": [
    {
     "data": {
      "text/plain": [
       "<matplotlib.axes._subplots.AxesSubplot at 0x1ca151a8>"
      ]
     },
     "execution_count": 88,
     "metadata": {},
     "output_type": "execute_result"
    },
    {
     "data": {
      "image/png": "[encoded data removed]",
      "text/plain": [
       "<Figure size 432x288 with 1 Axes>"
      ]
     },
     "metadata": {
      "needs_background": "light"
     },
     "output_type": "display_data"
    }
   ],
   "source": [
    "data['Rating'].plot(kind='box')"
   ]
  },
  {
   "cell_type": "markdown",
   "metadata": {},
   "source": [
    "### You can relate this box graph with downside code it tells minimum rating 1.9 max rating 9. 25% movies have less than 6.2 rating and 25%  movies have greater than 7.4 rating and more movies have rates between 6.2 and 7.4 and mean value is 6.7(represent through Green line)"
   ]
  },
  {
   "cell_type": "code",
   "execution_count": 89,
   "metadata": {},
   "outputs": [
    {
     "data": {
      "text/plain": [
       "count    1000.000000\n",
       "mean        6.723200\n",
       "std         0.945429\n",
       "min         1.900000\n",
       "25%         6.200000\n",
       "50%         6.800000\n",
       "75%         7.400000\n",
       "max         9.000000\n",
       "Name: Rating, dtype: float64"
      ]
     },
     "execution_count": 89,
     "metadata": {},
     "output_type": "execute_result"
    }
   ],
   "source": [
    "data['Rating'].describe()"
   ]
  },
  {
   "cell_type": "code",
   "execution_count": 90,
   "metadata": {},
   "outputs": [
    {
     "name": "stdout",
     "output_type": "stream",
     "text": [
      "['Good', 'Good', 'Good', 'Good', 'Good', 'Bad', 'Good', 'Good', 'Good', 'Good', 'Good', 'Good', 'Good', 'Good', 'Good', 'Good', 'Good', 'Good', 'Good', 'Good', 'Good', 'Good', 'Good', 'Good', 'Bad', 'Good', 'Good', 'Bad', 'Good', 'Bad', 'Good', 'Good', 'Good', 'Good', 'Bad', 'Good', 'Good', 'Good', 'Good', 'Good', 'Good', 'Good', 'Bad', 'Good', 'Good', 'Good', 'Good', 'Bad', 'Good', 'Bad', 'Good', 'Bad', 'Bad', 'Good', 'Good', 'Good', 'Good', 'Good', 'Good', 'Good', 'Good', 'Good', 'Good', 'Bad', 'Good', 'Good', 'Good', 'Good', 'Good', 'Good', 'Bad', 'Good', 'Good', 'Good', 'Good', 'Good', 'Good', 'Good', 'Good', 'Bad', 'Good', 'Good', 'Good', 'Good', 'Good', 'Good', 'Good', 'Good', 'Good', 'Good', 'Good', 'Good', 'Good', 'Good', 'Good', 'Good', 'Good', 'Bad', 'Good', 'Good', 'Good', 'Good', 'Good', 'Good', 'Good', 'Good', 'Bad', 'Good', 'Bad', 'Good', 'Good', 'Good', 'Bad', 'Good', 'Good', 'Bad', 'Good', 'Good', 'Good', 'Good', 'Good', 'Good', 'Bad', 'Good', 'Good', 'Good', 'Bad', 'Good', 'Good', 'Good', 'Good', 'Bad', 'Good', 'Good', 'Good', 'Good', 'Good', 'Good', 'Good', 'Good', 'Good', 'Good', 'Good', 'Good', 'Good', 'Good', 'Good', 'Good', 'Good', 'Good', 'Good', 'Good', 'Bad', 'Good', 'Good', 'Bad', 'Good', 'Good', 'Good', 'Good', 'Bad', 'Good', 'Good', 'Bad', 'Good', 'Bad', 'Good', 'Good', 'Good', 'Good', 'Good', 'Good', 'Bad', 'Good', 'Good', 'Good', 'Good', 'Good', 'Good', 'Good', 'Good', 'Good', 'Good', 'Bad', 'Good', 'Bad', 'Good', 'Good', 'Good', 'Good', 'Good', 'Bad', 'Good', 'Bad', 'Good', 'Good', 'Good', 'Good', 'Good', 'Good', 'Good', 'Good', 'Good', 'Good', 'Bad', 'Good', 'Good', 'Good', 'Good', 'Good', 'Bad', 'Bad', 'Good', 'Bad', 'Good', 'Bad', 'Good', 'Bad', 'Bad', 'Good', 'Good', 'Good', 'Good', 'Good', 'Good', 'Good', 'Good', 'Good', 'Good', 'Bad', 'Good', 'Bad', 'Good', 'Good', 'Bad', 'Good', 'Good', 'Bad', 'Good', 'Bad', 'Good', 'Good', 'Bad', 'Good', 'Bad', 'Good', 'Good', 'Good', 'Good', 'Good', 'Bad', 'Good', 'Good', 'Good', 'Good', 'Good', 'Bad', 'Good', 'Good', 'Good', 'Good', 'Good', 'Good', 'Good', 'Bad', 'Bad', 'Bad', 'Good', 'Good', 'Bad', 'Good', 'Good', 'Good', 'Good', 'Good', 'Good', 'Good', 'Good', 'Good', 'Good', 'Good', 'Good', 'Good', 'Good', 'Bad', 'Bad', 'Bad', 'Bad', 'Bad', 'Bad', 'Good', 'Good', 'Bad', 'Good', 'Good', 'Good', 'Bad', 'Good', 'Good', 'Good', 'Good', 'Good', 'Good', 'Bad', 'Good', 'Good', 'Good', 'Bad', 'Bad', 'Bad', 'Good', 'Good', 'Good', 'Good', 'Good', 'Good', 'Bad', 'Bad', 'Good', 'Good', 'Good', 'Good', 'Good', 'Good', 'Good', 'Bad', 'Bad', 'Good', 'Good', 'Bad', 'Good', 'Good', 'Good', 'Good', 'Good', 'Bad', 'Good', 'Bad', 'Good', 'Good', 'Good', 'Good', 'Good', 'Good', 'Good', 'Bad', 'Good', 'Good', 'Bad', 'Good', 'Good', 'Good', 'Good', 'Good', 'Good', 'Bad', 'Good', 'Good', 'Good', 'Good', 'Good', 'Bad', 'Good', 'Good', 'Good', 'Good', 'Bad', 'Good', 'Good', 'Bad', 'Bad', 'Good', 'Good', 'Good', 'Good', 'Bad', 'Good', 'Good', 'Good', 'Bad', 'Good', 'Good', 'Good', 'Good', 'Good', 'Good', 'Bad', 'Good', 'Good', 'Good', 'Good', 'Bad', 'Good', 'Bad', 'Bad', 'Good', 'Good', 'Bad', 'Bad', 'Bad', 'Good', 'Bad', 'Good', 'Good', 'Good', 'Good', 'Good', 'Good', 'Good', 'Bad', 'Good', 'Good', 'Good', 'Good', 'Bad', 'Bad', 'Good', 'Good', 'Good', 'Good', 'Good', 'Bad', 'Bad', 'Good', 'Bad', 'Good', 'Good', 'Good', 'Bad', 'Bad', 'Good', 'Bad', 'Good', 'Good', 'Good', 'Good', 'Good', 'Good', 'Good', 'Bad', 'Good', 'Good', 'Good', 'Good', 'Bad', 'Good', 'Good', 'Good', 'Good', 'Bad', 'Good', 'Good', 'Good', 'Good', 'Bad', 'Good', 'Good', 'Bad', 'Good', 'Good', 'Good', 'Bad', 'Good', 'Good', 'Good', 'Good', 'Good', 'Good', 'Good', 'Good', 'Good', 'Good', 'Bad', 'Good', 'Good', 'Good', 'Good', 'Bad', 'Good', 'Good', 'Good', 'Good', 'Good', 'Good', 'Good', 'Good', 'Good', 'Good', 'Good', 'Good', 'Good', 'Good', 'Good', 'Bad', 'Good', 'Good', 'Good', 'Good', 'Good', 'Good', 'Good', 'Good', 'Good', 'Good', 'Good', 'Bad', 'Good', 'Good', 'Bad', 'Good', 'Good', 'Good', 'Bad', 'Good', 'Bad', 'Good', 'Bad', 'Good', 'Good', 'Good', 'Good', 'Bad', 'Bad', 'Good', 'Good', 'Bad', 'Good', 'Bad', 'Good', 'Good', 'Good', 'Bad', 'Good', 'Good', 'Good', 'Good', 'Good', 'Bad', 'Good', 'Bad', 'Good', 'Good', 'Good', 'Good', 'Bad', 'Good', 'Good', 'Good', 'Good', 'Good', 'Bad', 'Good', 'Bad', 'Good', 'Good', 'Bad', 'Good', 'Good', 'Good', 'Good', 'Good', 'Good', 'Good', 'Good', 'Bad', 'Bad', 'Good', 'Good', 'Bad', 'Good', 'Bad', 'Good', 'Good', 'Good', 'Good', 'Bad', 'Good', 'Good', 'Good', 'Good', 'Bad', 'Bad', 'Bad', 'Bad', 'Good', 'Bad', 'Good', 'Bad', 'Good', 'Good', 'Good', 'Good', 'Good', 'Good', 'Bad', 'Good', 'Good', 'Good', 'Good', 'Good', 'Good', 'Good', 'Good', 'Good', 'Bad', 'Good', 'Good', 'Good', 'Good', 'Good', 'Good', 'Good', 'Good', 'Good', 'Good', 'Good', 'Bad', 'Good', 'Good', 'Good', 'Good', 'Good', 'Good', 'Bad', 'Bad', 'Good', 'Good', 'Bad', 'Bad', 'Good', 'Good', 'Good', 'Good', 'Bad', 'Good', 'Good', 'Good', 'Good', 'Bad', 'Good', 'Good', 'Good', 'Bad', 'Good', 'Bad', 'Good', 'Good', 'Bad', 'Bad', 'Bad', 'Good', 'Good', 'Good', 'Good', 'Good', 'Good', 'Good', 'Bad', 'Good', 'Good', 'Good', 'Good', 'Good', 'Good', 'Good', 'Good', 'Bad', 'Good', 'Good', 'Good', 'Bad', 'Good', 'Good', 'Bad', 'Bad', 'Good', 'Good', 'Good', 'Good', 'Good', 'Good', 'Good', 'Good', 'Bad', 'Good', 'Good', 'Good', 'Bad', 'Good', 'Good', 'Bad', 'Good', 'Good', 'Bad', 'Good', 'Good', 'Bad', 'Good', 'Good', 'Bad', 'Good', 'Good', 'Good', 'Good', 'Good', 'Bad', 'Good', 'Good', 'Good', 'Good', 'Bad', 'Good', 'Good', 'Good', 'Bad', 'Good', 'Good', 'Good', 'Bad', 'Good', 'Good', 'Good', 'Bad', 'Bad', 'Good', 'Good', 'Good', 'Good', 'Good', 'Good', 'Good', 'Good', 'Good', 'Good', 'Good', 'Good', 'Bad', 'Good', 'Bad', 'Bad', 'Bad', 'Good', 'Good', 'Good', 'Good', 'Bad', 'Bad', 'Bad', 'Bad', 'Bad', 'Good', 'Good', 'Good', 'Good', 'Bad', 'Good', 'Bad', 'Good', 'Bad', 'Good', 'Good', 'Good', 'Good', 'Good', 'Bad', 'Good', 'Good', 'Good', 'Good', 'Bad', 'Good', 'Bad', 'Good', 'Bad', 'Good', 'Good', 'Bad', 'Bad', 'Bad', 'Good', 'Good', 'Good', 'Good', 'Good', 'Good', 'Good', 'Good', 'Bad', 'Good', 'Good', 'Bad', 'Good', 'Good', 'Good', 'Good', 'Good', 'Good', 'Good', 'Good', 'Good', 'Bad', 'Good', 'Good', 'Good', 'Good', 'Bad', 'Good', 'Good', 'Good', 'Bad', 'Good', 'Good', 'Good', 'Good', 'Good', 'Good', 'Bad', 'Good', 'Bad', 'Bad', 'Good', 'Good', 'Bad', 'Good', 'Bad', 'Bad', 'Bad', 'Bad', 'Good', 'Bad', 'Good', 'Good', 'Good', 'Bad', 'Good', 'Good', 'Good', 'Bad', 'Bad', 'Good', 'Good', 'Good', 'Good', 'Good', 'Good', 'Good', 'Good', 'Good', 'Good', 'Good', 'Good', 'Good', 'Good', 'Good', 'Good', 'Bad', 'Good', 'Good', 'Good', 'Good', 'Good', 'Good', 'Good', 'Good', 'Good', 'Good', 'Good', 'Good', 'Good', 'Good', 'Good', 'Bad', 'Bad', 'Good', 'Good', 'Good', 'Good', 'Good', 'Bad', 'Bad', 'Good', 'Good', 'Good', 'Good', 'Bad', 'Good', 'Good', 'Good', 'Bad', 'Good', 'Bad', 'Good', 'Good', 'Bad', 'Good', 'Good', 'Good', 'Good', 'Good', 'Bad', 'Good', 'Bad', 'Good', 'Good', 'Good', 'Good', 'Good', 'Good', 'Good', 'Good', 'Good', 'Bad', 'Good', 'Good', 'Good', 'Good', 'Good', 'Good', 'Good', 'Bad', 'Good', 'Good', 'Good', 'Good', 'Bad', 'Bad', 'Good', 'Bad', 'Bad', 'Good', 'Bad', 'Good', 'Bad', 'Good', 'Good', 'Good', 'Bad', 'Good', 'Good', 'Good', 'Bad', 'Bad', 'Bad', 'Bad', 'Good', 'Good', 'Good', 'Bad', 'Bad', 'Bad', 'Good', 'Good', 'Bad', 'Good', 'Good', 'Good', 'Bad', 'Good', 'Good', 'Good', 'Good', 'Bad', 'Good', 'Good', 'Good', 'Good', 'Good', 'Good', 'Bad', 'Good', 'Bad', 'Good', 'Bad', 'Good', 'Good', 'Bad', 'Good', 'Bad', 'Good', 'Good', 'Good', 'Bad', 'Good', 'Good', 'Good', 'Bad', 'Bad', 'Good', 'Good', 'Good', 'Good', 'Good', 'Good', 'Bad', 'Good', 'Good', 'Bad', 'Good', 'Bad', 'Bad']\n"
     ]
    }
   ],
   "source": [
    "list =[]\n",
    "for rate in data['Rating']:\n",
    "    if rate < 6.2:\n",
    "        list.append('Bad')\n",
    "        \n",
    "    else:\n",
    "        list.append('Good')\n",
    "print(list)\n",
    "        "
   ]
  },
  {
   "cell_type": "markdown",
   "metadata": {},
   "source": [
    "### Creating extra column(Rating_Catagory) in data main csv file"
   ]
  },
  {
   "cell_type": "code",
   "execution_count": 91,
   "metadata": {},
   "outputs": [],
   "source": [
    "data['Rating_Catagory'] = list"
   ]
  },
  {
   "cell_type": "code",
   "execution_count": 92,
   "metadata": {},
   "outputs": [
    {
     "data": {
      "text/html": [
       "<div>\n",
       "<style scoped>\n",
       "    .dataframe tbody tr th:only-of-type {\n",
       "        vertical-align: middle;\n",
       "    }\n",
       "\n",
       "    .dataframe tbody tr th {\n",
       "        vertical-align: top;\n",
       "    }\n",
       "\n",
       "    .dataframe thead th {\n",
       "        text-align: right;\n",
       "    }\n",
       "</style>\n",
       "<table border=\"1\" class=\"dataframe\">\n",
       "  <thead>\n",
       "    <tr style=\"text-align: right;\">\n",
       "      <th></th>\n",
       "      <th>Title</th>\n",
       "      <th>Genre</th>\n",
       "      <th>Description</th>\n",
       "      <th>Director</th>\n",
       "      <th>Actors</th>\n",
       "      <th>Year</th>\n",
       "      <th>Runtime (Minutes)</th>\n",
       "      <th>Rating</th>\n",
       "      <th>Votes</th>\n",
       "      <th>Revenue (Millions)</th>\n",
       "      <th>Metascore</th>\n",
       "      <th>Rating_Catagory</th>\n",
       "    </tr>\n",
       "    <tr>\n",
       "      <th>Rank</th>\n",
       "      <th></th>\n",
       "      <th></th>\n",
       "      <th></th>\n",
       "      <th></th>\n",
       "      <th></th>\n",
       "      <th></th>\n",
       "      <th></th>\n",
       "      <th></th>\n",
       "      <th></th>\n",
       "      <th></th>\n",
       "      <th></th>\n",
       "      <th></th>\n",
       "    </tr>\n",
       "  </thead>\n",
       "  <tbody>\n",
       "    <tr>\n",
       "      <th>1</th>\n",
       "      <td>Guardians of the Galaxy</td>\n",
       "      <td>Action,Adventure,Sci-Fi</td>\n",
       "      <td>A group of intergalactic criminals are forced ...</td>\n",
       "      <td>James Gunn</td>\n",
       "      <td>Chris Pratt, Vin Diesel, Bradley Cooper, Zoe S...</td>\n",
       "      <td>2014</td>\n",
       "      <td>121</td>\n",
       "      <td>8.1</td>\n",
       "      <td>757074</td>\n",
       "      <td>333.13</td>\n",
       "      <td>76.0</td>\n",
       "      <td>Good</td>\n",
       "    </tr>\n",
       "    <tr>\n",
       "      <th>2</th>\n",
       "      <td>Prometheus</td>\n",
       "      <td>Adventure,Mystery,Sci-Fi</td>\n",
       "      <td>Following clues to the origin of mankind, a te...</td>\n",
       "      <td>Ridley Scott</td>\n",
       "      <td>Noomi Rapace, Logan Marshall-Green, Michael Fa...</td>\n",
       "      <td>2012</td>\n",
       "      <td>124</td>\n",
       "      <td>7.0</td>\n",
       "      <td>485820</td>\n",
       "      <td>126.46</td>\n",
       "      <td>65.0</td>\n",
       "      <td>Good</td>\n",
       "    </tr>\n",
       "    <tr>\n",
       "      <th>3</th>\n",
       "      <td>Split</td>\n",
       "      <td>Horror,Thriller</td>\n",
       "      <td>Three girls are kidnapped by a man with a diag...</td>\n",
       "      <td>M. Night Shyamalan</td>\n",
       "      <td>James McAvoy, Anya Taylor-Joy, Haley Lu Richar...</td>\n",
       "      <td>2016</td>\n",
       "      <td>117</td>\n",
       "      <td>7.3</td>\n",
       "      <td>157606</td>\n",
       "      <td>138.12</td>\n",
       "      <td>62.0</td>\n",
       "      <td>Good</td>\n",
       "    </tr>\n",
       "    <tr>\n",
       "      <th>4</th>\n",
       "      <td>Sing</td>\n",
       "      <td>Animation,Comedy,Family</td>\n",
       "      <td>In a city of humanoid animals, a hustling thea...</td>\n",
       "      <td>Christophe Lourdelet</td>\n",
       "      <td>Matthew McConaughey,Reese Witherspoon, Seth Ma...</td>\n",
       "      <td>2016</td>\n",
       "      <td>108</td>\n",
       "      <td>7.2</td>\n",
       "      <td>60545</td>\n",
       "      <td>270.32</td>\n",
       "      <td>59.0</td>\n",
       "      <td>Good</td>\n",
       "    </tr>\n",
       "    <tr>\n",
       "      <th>5</th>\n",
       "      <td>Suicide Squad</td>\n",
       "      <td>Action,Adventure,Fantasy</td>\n",
       "      <td>A secret government agency recruits some of th...</td>\n",
       "      <td>David Ayer</td>\n",
       "      <td>Will Smith, Jared Leto, Margot Robbie, Viola D...</td>\n",
       "      <td>2016</td>\n",
       "      <td>123</td>\n",
       "      <td>6.2</td>\n",
       "      <td>393727</td>\n",
       "      <td>325.02</td>\n",
       "      <td>40.0</td>\n",
       "      <td>Good</td>\n",
       "    </tr>\n",
       "    <tr>\n",
       "      <th>...</th>\n",
       "      <td>...</td>\n",
       "      <td>...</td>\n",
       "      <td>...</td>\n",
       "      <td>...</td>\n",
       "      <td>...</td>\n",
       "      <td>...</td>\n",
       "      <td>...</td>\n",
       "      <td>...</td>\n",
       "      <td>...</td>\n",
       "      <td>...</td>\n",
       "      <td>...</td>\n",
       "      <td>...</td>\n",
       "    </tr>\n",
       "    <tr>\n",
       "      <th>996</th>\n",
       "      <td>Secret in Their Eyes</td>\n",
       "      <td>Crime,Drama,Mystery</td>\n",
       "      <td>A tight-knit team of rising investigators, alo...</td>\n",
       "      <td>Billy Ray</td>\n",
       "      <td>Chiwetel Ejiofor, Nicole Kidman, Julia Roberts...</td>\n",
       "      <td>2015</td>\n",
       "      <td>111</td>\n",
       "      <td>6.2</td>\n",
       "      <td>27585</td>\n",
       "      <td>NaN</td>\n",
       "      <td>45.0</td>\n",
       "      <td>Good</td>\n",
       "    </tr>\n",
       "    <tr>\n",
       "      <th>997</th>\n",
       "      <td>Hostel: Part II</td>\n",
       "      <td>Horror</td>\n",
       "      <td>Three American college students studying abroa...</td>\n",
       "      <td>Eli Roth</td>\n",
       "      <td>Lauren German, Heather Matarazzo, Bijou Philli...</td>\n",
       "      <td>2007</td>\n",
       "      <td>94</td>\n",
       "      <td>5.5</td>\n",
       "      <td>73152</td>\n",
       "      <td>17.54</td>\n",
       "      <td>46.0</td>\n",
       "      <td>Bad</td>\n",
       "    </tr>\n",
       "    <tr>\n",
       "      <th>998</th>\n",
       "      <td>Step Up 2: The Streets</td>\n",
       "      <td>Drama,Music,Romance</td>\n",
       "      <td>Romantic sparks occur between two dance studen...</td>\n",
       "      <td>Jon M. Chu</td>\n",
       "      <td>Robert Hoffman, Briana Evigan, Cassie Ventura,...</td>\n",
       "      <td>2008</td>\n",
       "      <td>98</td>\n",
       "      <td>6.2</td>\n",
       "      <td>70699</td>\n",
       "      <td>58.01</td>\n",
       "      <td>50.0</td>\n",
       "      <td>Good</td>\n",
       "    </tr>\n",
       "    <tr>\n",
       "      <th>999</th>\n",
       "      <td>Search Party</td>\n",
       "      <td>Adventure,Comedy</td>\n",
       "      <td>A pair of friends embark on a mission to reuni...</td>\n",
       "      <td>Scot Armstrong</td>\n",
       "      <td>Adam Pally, T.J. Miller, Thomas Middleditch,Sh...</td>\n",
       "      <td>2014</td>\n",
       "      <td>93</td>\n",
       "      <td>5.6</td>\n",
       "      <td>4881</td>\n",
       "      <td>NaN</td>\n",
       "      <td>22.0</td>\n",
       "      <td>Bad</td>\n",
       "    </tr>\n",
       "    <tr>\n",
       "      <th>1000</th>\n",
       "      <td>Nine Lives</td>\n",
       "      <td>Comedy,Family,Fantasy</td>\n",
       "      <td>A stuffy businessman finds himself trapped ins...</td>\n",
       "      <td>Barry Sonnenfeld</td>\n",
       "      <td>Kevin Spacey, Jennifer Garner, Robbie Amell,Ch...</td>\n",
       "      <td>2016</td>\n",
       "      <td>87</td>\n",
       "      <td>5.3</td>\n",
       "      <td>12435</td>\n",
       "      <td>19.64</td>\n",
       "      <td>11.0</td>\n",
       "      <td>Bad</td>\n",
       "    </tr>\n",
       "  </tbody>\n",
       "</table>\n",
       "<p>1000 rows × 12 columns</p>\n",
       "</div>"
      ],
      "text/plain": [
       "                        Title                     Genre  \\\n",
       "Rank                                                      \n",
       "1     Guardians of the Galaxy   Action,Adventure,Sci-Fi   \n",
       "2                  Prometheus  Adventure,Mystery,Sci-Fi   \n",
       "3                       Split           Horror,Thriller   \n",
       "4                        Sing   Animation,Comedy,Family   \n",
       "5               Suicide Squad  Action,Adventure,Fantasy   \n",
       "...                       ...                       ...   \n",
       "996      Secret in Their Eyes       Crime,Drama,Mystery   \n",
       "997           Hostel: Part II                    Horror   \n",
       "998    Step Up 2: The Streets       Drama,Music,Romance   \n",
       "999              Search Party          Adventure,Comedy   \n",
       "1000               Nine Lives     Comedy,Family,Fantasy   \n",
       "\n",
       "                                            Description              Director  \\\n",
       "Rank                                                                            \n",
       "1     A group of intergalactic criminals are forced ...            James Gunn   \n",
       "2     Following clues to the origin of mankind, a te...          Ridley Scott   \n",
       "3     Three girls are kidnapped by a man with a diag...    M. Night Shyamalan   \n",
       "4     In a city of humanoid animals, a hustling thea...  Christophe Lourdelet   \n",
       "5     A secret government agency recruits some of th...            David Ayer   \n",
       "...                                                 ...                   ...   \n",
       "996   A tight-knit team of rising investigators, alo...             Billy Ray   \n",
       "997   Three American college students studying abroa...              Eli Roth   \n",
       "998   Romantic sparks occur between two dance studen...            Jon M. Chu   \n",
       "999   A pair of friends embark on a mission to reuni...        Scot Armstrong   \n",
       "1000  A stuffy businessman finds himself trapped ins...      Barry Sonnenfeld   \n",
       "\n",
       "                                                 Actors  Year  \\\n",
       "Rank                                                            \n",
       "1     Chris Pratt, Vin Diesel, Bradley Cooper, Zoe S...  2014   \n",
       "2     Noomi Rapace, Logan Marshall-Green, Michael Fa...  2012   \n",
       "3     James McAvoy, Anya Taylor-Joy, Haley Lu Richar...  2016   \n",
       "4     Matthew McConaughey,Reese Witherspoon, Seth Ma...  2016   \n",
       "5     Will Smith, Jared Leto, Margot Robbie, Viola D...  2016   \n",
       "...                                                 ...   ...   \n",
       "996   Chiwetel Ejiofor, Nicole Kidman, Julia Roberts...  2015   \n",
       "997   Lauren German, Heather Matarazzo, Bijou Philli...  2007   \n",
       "998   Robert Hoffman, Briana Evigan, Cassie Ventura,...  2008   \n",
       "999   Adam Pally, T.J. Miller, Thomas Middleditch,Sh...  2014   \n",
       "1000  Kevin Spacey, Jennifer Garner, Robbie Amell,Ch...  2016   \n",
       "\n",
       "      Runtime (Minutes)  Rating   Votes  Revenue (Millions)  Metascore  \\\n",
       "Rank                                                                     \n",
       "1                   121     8.1  757074              333.13       76.0   \n",
       "2                   124     7.0  485820              126.46       65.0   \n",
       "3                   117     7.3  157606              138.12       62.0   \n",
       "4                   108     7.2   60545              270.32       59.0   \n",
       "5                   123     6.2  393727              325.02       40.0   \n",
       "...                 ...     ...     ...                 ...        ...   \n",
       "996                 111     6.2   27585                 NaN       45.0   \n",
       "997                  94     5.5   73152               17.54       46.0   \n",
       "998                  98     6.2   70699               58.01       50.0   \n",
       "999                  93     5.6    4881                 NaN       22.0   \n",
       "1000                 87     5.3   12435               19.64       11.0   \n",
       "\n",
       "     Rating_Catagory  \n",
       "Rank                  \n",
       "1               Good  \n",
       "2               Good  \n",
       "3               Good  \n",
       "4               Good  \n",
       "5               Good  \n",
       "...              ...  \n",
       "996             Good  \n",
       "997              Bad  \n",
       "998             Good  \n",
       "999              Bad  \n",
       "1000             Bad  \n",
       "\n",
       "[1000 rows x 12 columns]"
      ]
     },
     "execution_count": 92,
     "metadata": {},
     "output_type": "execute_result"
    }
   ],
   "source": [
    "data"
   ]
  },
  {
   "cell_type": "markdown",
   "metadata": {},
   "source": [
    "###  Creating box plot between Rating_Catagory and Revenue"
   ]
  },
  {
   "cell_type": "code",
   "execution_count": 93,
   "metadata": {
    "scrolled": true
   },
   "outputs": [
    {
     "data": {
      "text/plain": [
       "<matplotlib.axes._subplots.AxesSubplot at 0x1ca4ab98>"
      ]
     },
     "execution_count": 93,
     "metadata": {},
     "output_type": "execute_result"
    },
    {
     "data": {
      "image/png": "[encoded data removed]",
      "text/plain": [
       "<Figure size 432x288 with 1 Axes>"
      ]
     },
     "metadata": {
      "needs_background": "light"
     },
     "output_type": "display_data"
    }
   ],
   "source": [
    "data.boxplot(column='Revenue (Millions)', by= 'Rating_Catagory')"
   ]
  },
  {
   "cell_type": "code",
   "execution_count": 94,
   "metadata": {},
   "outputs": [
    {
     "data": {
      "text/plain": [
       "count     1000\n",
       "unique       2\n",
       "top       Good\n",
       "freq       759\n",
       "Name: Rating_Catagory, dtype: object"
      ]
     },
     "execution_count": 94,
     "metadata": {},
     "output_type": "execute_result"
    }
   ],
   "source": [
    "data['Rating_Catagory'].describe()"
   ]
  }
 ],
 "metadata": {
  "kernelspec": {
   "display_name": "Python 3",
   "language": "python",
   "name": "python3"
  },
  "language_info": {
   "codemirror_mode": {
    "name": "ipython",
    "version": 3
   },
   "file_extension": ".py",
   "mimetype": "text/x-python",
   "name": "python",
   "nbconvert_exporter": "python",
   "pygments_lexer": "ipython3",
   "version": "3.8.1"
  }
 },
 "nbformat": 4,
 "nbformat_minor": 4
}
